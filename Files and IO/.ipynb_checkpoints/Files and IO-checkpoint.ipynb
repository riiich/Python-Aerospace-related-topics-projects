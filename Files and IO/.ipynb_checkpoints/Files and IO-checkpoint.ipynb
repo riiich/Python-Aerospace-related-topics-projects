{
 "cells": [
  {
   "cell_type": "code",
   "execution_count": 2,
   "id": "d8183abe-fe96-41ef-b349-175e76a44a20",
   "metadata": {},
   "outputs": [],
   "source": [
    "file = open(\"sample.txt\", \"w\")"
   ]
  },
  {
   "cell_type": "code",
   "execution_count": 3,
   "id": "99a0628b-0200-4849-a7fe-4d5dfe126139",
   "metadata": {},
   "outputs": [],
   "source": [
    "file = open(\"sample.txt\", \"w\")\n",
    "file.write(\"Blast\")\n",
    "file.write(\"Off\")\n",
    "file.close()"
   ]
  },
  {
   "cell_type": "code",
   "execution_count": 8,
   "id": "c95a712a-40d7-4dee-a3eb-72a9f348205c",
   "metadata": {},
   "outputs": [
    {
     "name": "stdout",
     "output_type": "stream",
     "text": [
      "BlastOff\n"
     ]
    }
   ],
   "source": [
    "file = open(\"sample.txt\", \"r\")\n",
    "print(file.readline())\n",
    "file.close()"
   ]
  },
  {
   "cell_type": "code",
   "execution_count": 12,
   "id": "3b87ff6d-7a80-4687-9217-a1a7bf9bb149",
   "metadata": {},
   "outputs": [],
   "source": [
    "planet_names = [\"Mercury\", \"Venus\", \"Mars\", \"Earth\", \"Jupiter\", \"Saturn\", \"Uranus\", \"Neptune\"]\n",
    "\n",
    "# surface gravity (in multiples of Earth's gravity)\n",
    "surface_gravity = [0.38, 0.91, 1.0, 0.38, 2.34, 0.93, 0.92, 1.12]\n",
    "\n",
    "# surface temperature (in Kelvin)\n",
    "surface_temperature = [440, 737, 288, 210, 120, 80, 60, 50]\n",
    "\n",
    "file = open(\"planets.txt\", \"w\")\n",
    "\n",
    "for i in range(len(planet_names)):\n",
    "    file.write(planet_names[i] + \" - \")\n",
    "    file.write(\"Surface gravity (g): \" + str(surface_gravity[i]) + \" | \")\n",
    "    file.write(\"Surface temperature (K):\" + str(surface_temperature[i]) + \" \\n\")\n",
    "\n",
    "file.close()"
   ]
  },
  {
   "cell_type": "code",
   "execution_count": 23,
   "id": "8df74e4b-4688-4a21-9749-134ab3386ced",
   "metadata": {},
   "outputs": [
    {
     "name": "stdout",
     "output_type": "stream",
     "text": [
      "Mercury - Surface gravity (g): 0.38 | Surface temperature (K):440 \n",
      "Venus - Surface gravity (g): 0.91 | Surface temperature (K):737 \n",
      "Mars - Surface gravity (g): 1.0 | Surface temperature (K):288 \n",
      "Earth - Surface gravity (g): 0.38 | Surface temperature (K):210 \n",
      "Jupiter - Surface gravity (g): 2.34 | Surface temperature (K):120 \n",
      "Saturn - Surface gravity (g): 0.93 | Surface temperature (K):80 \n",
      "Uranus - Surface gravity (g): 0.92 | Surface temperature (K):60 \n",
      "Neptune - Surface gravity (g): 1.12 | Surface temperature (K):50 \n",
      "\n"
     ]
    }
   ],
   "source": [
    "file = open(\"planets.txt\", \"r\")\n",
    "\n",
    "print(file.read())\n",
    "\n",
    "file.close()"
   ]
  },
  {
   "cell_type": "code",
   "execution_count": 30,
   "id": "b348b44d-f0c5-4aca-aba1-04e3858c702d",
   "metadata": {},
   "outputs": [],
   "source": [
    "planet_names = [\"Mercury\", \"Venus\", \"Mars\", \"Earth\", \"Jupiter\", \"Saturn\", \"Uranus\", \"Neptune\"]\n",
    "\n",
    "# Orbital periods (in Earth years)\n",
    "orbital_periods = [0.24, 0.62, 1.0, 1.88, 11.86, 29.46, 84.01, 164.8]\n",
    "\n",
    "# Axial tilts (in degrees)\n",
    "axial_tilts = [0.03, 177.36, 23.44, 25.19, 3.13, 26.73, 82.33, 28.32]\n",
    "\n",
    "file = open(\"orbital_details.txt\", \"w\")\n",
    "\n",
    "for i in range(len(planet_names)):\n",
    "    file.write(planet_names[i] + \" - \")\n",
    "    file.write(\"Orbital periods (Earth years): \" + str(orbital_periods[i]) + \" | \")\n",
    "    file.write(\"Axial tilts (deg): \" + str(axial_tilts[i]) + \" \\n\")\n",
    "\n",
    "file.close()"
   ]
  },
  {
   "cell_type": "code",
   "execution_count": 31,
   "id": "b20aa06d-96f9-42f7-97cc-04023f8b05cf",
   "metadata": {},
   "outputs": [
    {
     "name": "stdout",
     "output_type": "stream",
     "text": [
      "Mercury - Orbital periods (Earth years): 0.24 | Axial tilts (deg): 0.03 \n",
      "Venus - Orbital periods (Earth years): 0.62 | Axial tilts (deg): 177.36 \n",
      "Mars - Orbital periods (Earth years): 1.0 | Axial tilts (deg): 23.44 \n",
      "Earth - Orbital periods (Earth years): 1.88 | Axial tilts (deg): 25.19 \n",
      "Jupiter - Orbital periods (Earth years): 11.86 | Axial tilts (deg): 3.13 \n",
      "Saturn - Orbital periods (Earth years): 29.46 | Axial tilts (deg): 26.73 \n",
      "Uranus - Orbital periods (Earth years): 84.01 | Axial tilts (deg): 82.33 \n",
      "Neptune - Orbital periods (Earth years): 164.8 | Axial tilts (deg): 28.32 \n",
      "\n"
     ]
    }
   ],
   "source": [
    "file = open(\"orbital_details.txt\", \"r\")\n",
    "\n",
    "print(file.read())\n",
    "\n",
    "file.close()"
   ]
  },
  {
   "cell_type": "code",
   "execution_count": 36,
   "id": "d63bd892-f9a6-4387-9386-e69f96102760",
   "metadata": {},
   "outputs": [
    {
     "name": "stdout",
     "output_type": "stream",
     "text": [
      "Original\n",
      "[[ 5.   3.2 12.8]\n",
      " [12.1  4.7  8.5]\n",
      " [ 7.3  1.9 15.4]]\n",
      "\n",
      "Transposed\n",
      "[[ 5.  12.1  7.3]\n",
      " [ 3.2  4.7  1.9]\n",
      " [12.8  8.5 15.4]]\n",
      "\n",
      "[ 5.  12.1  7.3]\n"
     ]
    }
   ],
   "source": [
    "import numpy as np\n",
    "\n",
    "data = np.loadtxt(\"spacecraft.txt\")\n",
    "print(\"Original\")\n",
    "print(data)\n",
    "\n",
    "print()\n",
    "\n",
    "data = np.transpose(data)\n",
    "print(\"Transposed\")\n",
    "print(data)\n",
    "\n",
    "mass = data[0]\n",
    "fuel = data[1]\n",
    "force = data[2]\n",
    "\n",
    "print()\n",
    "print(mass)"
   ]
  },
  {
   "cell_type": "code",
   "execution_count": 41,
   "id": "4e8598a5-b30c-4dfb-b993-df8976e2627c",
   "metadata": {},
   "outputs": [
    {
     "name": "stdout",
     "output_type": "stream",
     "text": [
      "data\n",
      "=======\n",
      "[[0.1252262  0.78856681 0.76340433 ... 0.68677906 0.83367139 0.29958632]\n",
      " [0.19601932 0.57361986 0.98043251 ... 0.16136321 0.3754491  0.35797337]\n",
      " [0.44962573 0.97541743 0.99777408 ... 0.2103913  0.15822016 0.31916497]\n",
      " ...\n",
      " [0.91618878 0.22216225 0.77503183 ... 0.04216499 0.30171987 0.72717102]\n",
      " [0.56541479 0.14676798 0.0135142  ... 0.60697871 0.26601878 0.56936343]\n",
      " [0.50022191 0.4166072  0.40940887 ... 0.56810509 0.82001118 0.74196087]]\n",
      "\n",
      "header\n",
      "=======\n",
      "SIMPLE  =                    T / conforms to FITS standard                      BITPIX  =                  -64 / array data type                                NAXIS   =                    2 / number of array dimensions                     NAXIS1  =                  100                                                  NAXIS2  =                  100                                                  EXTEND  =                    T                                                  OBJECT  = 'Fake Image'                                                          TELESCOP= 'Simulated Telescope'                                                 INSTRUME= 'Simulated Instrument'                                                EXPTIME =                 10.0                                                  END                                                                                                                                                                                                                                                                                                                                                                                                                                                                                                                                                                                                                                                                                                                                                                                                                                                                                                                                                                                                                                                                                                                                                                                                                                                                                                                                                                                                                                                                                                                                                                                                                                                                                                                                                                                                                                                                                                                                                                                                                                                                                                                                                             \n"
     ]
    }
   ],
   "source": [
    "from astropy.io import fits\n",
    "\n",
    "# FITS = Flexible Image Transport System (a digital file format useful for storage, transmission and processing of data; formatted as multi-dimensional arrays or tables)\n",
    "\n",
    "# Open FITS file\n",
    "hdul = fits.open(\"example.fits\")\n",
    "\n",
    "# Access the HDUs\n",
    "data_hdu = hdul[0]   # primary HDU \n",
    "data = data_hdu.data    # data array\n",
    "header = data_hdu.header   # header info\n",
    "\n",
    "print(\"data\")\n",
    "print(\"=======\")\n",
    "print(data)\n",
    "print()\n",
    "print(\"header\")\n",
    "print(\"=======\")\n",
    "print(header)\n",
    "\n",
    "hdul.close()"
   ]
  },
  {
   "cell_type": "code",
   "execution_count": null,
   "id": "4bdd425c-9750-4f06-8e83-409bb680497d",
   "metadata": {},
   "outputs": [],
   "source": []
  }
 ],
 "metadata": {
  "kernelspec": {
   "display_name": "Python 3 (ipykernel)",
   "language": "python",
   "name": "python3"
  },
  "language_info": {
   "codemirror_mode": {
    "name": "ipython",
    "version": 3
   },
   "file_extension": ".py",
   "mimetype": "text/x-python",
   "name": "python",
   "nbconvert_exporter": "python",
   "pygments_lexer": "ipython3",
   "version": "3.12.4"
  }
 },
 "nbformat": 4,
 "nbformat_minor": 5
}
