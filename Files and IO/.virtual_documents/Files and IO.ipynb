file = open("sample.txt", "w")


file = open("sample.txt", "w")
file.write("Blast")
file.write("Off")
file.close()


file = open("sample.txt", "r")
print(file.readline())
file.close()


planet_names = ["Mercury", "Venus", "Mars", "Earth", "Jupiter", "Saturn", "Uranus", "Neptune"]

# surface gravity (in multiples of Earth's gravity)
surface_gravity = [0.38, 0.91, 1.0, 0.38, 2.34, 0.93, 0.92, 1.12]

# surface temperature (in Kelvin)
surface_temperature = [440, 737, 288, 210, 120, 80, 60, 50]

file = open("planets.txt", "w")

for i in range(len(planet_names)):
    file.write(planet_names[i] + " - ")
    file.write("Surface gravity (g): " + str(surface_gravity[i]) + " | ")
    file.write("Surface temperature (K):" + str(surface_temperature[i]) + " \n")

file.close()


file = open("planets.txt", "r")

print(file.read())

file.close()


planet_names = ["Mercury", "Venus", "Mars", "Earth", "Jupiter", "Saturn", "Uranus", "Neptune"]

# Orbital periods (in Earth years)
orbital_periods = [0.24, 0.62, 1.0, 1.88, 11.86, 29.46, 84.01, 164.8]

# Axial tilts (in degrees)
axial_tilts = [0.03, 177.36, 23.44, 25.19, 3.13, 26.73, 82.33, 28.32]

file = open("orbital_details.txt", "w")

for i in range(len(planet_names)):
    file.write(planet_names[i] + " - ")
    file.write("Orbital periods (Earth years): " + str(orbital_periods[i]) + " | ")
    file.write("Axial tilts (deg): " + str(axial_tilts[i]) + " \n")

file.close()


file = open("orbital_details.txt", "r")

print(file.read())

file.close()


import numpy as np

data = np.loadtxt("spacecraft.txt")
print("Original")
print(data)

print()

data = np.transpose(data)
print("Transposed")
print(data)

mass = data[0]
fuel = data[1]
force = data[2]

print()
print(mass)


from astropy.io import fits

# FITS = Flexible Image Transport System (a digital file format useful for storage, transmission and processing of data; formatted as multi-dimensional arrays or tables)

# Open FITS file
hdul = fits.open("example.fits")

# Access the HDUs
data_hdu = hdul[0]   # primary HDU 
data = data_hdu.data    # data array
header = data_hdu.header   # header info

print("data")
print("=======")
print(data)
print()
print("header")
print("=======")
print(header)

hdul.close()



