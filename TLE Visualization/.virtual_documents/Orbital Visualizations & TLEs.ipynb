


path = "tle.txt"
tle_data = open(path, "r").readlines()


print(tle_data)
print()








clean_tle_data = list(map(lambda line: line.strip(), tle_data))
print(clean_tle_data)








for i in range(len(clean_tle_data)):
    name = clean_tle_data[0]
    line1 = clean_tle_data[1]
    line2 = clean_tle_data[2]

    # extracting individual values from Line 2
    satellite_number = int(line1[2:7])
    classification = line1[7]
    international_designator_year = int(line1[9:11])
    international_designator_launch_number = int(line1[11:14])
    international_designator_piece_of_launch = line1[14:17]
    epoch_year = int(line1[18:20])
    epoch_day = float(line1[20:32])
    first_derivative_mean_motion = float(line1[33:43])
    second_derivative_mean_motion = line1[45:52]
    bstar_drag_term = line1[53:61]
    ephemeris_type = int(line1[62])
    element_number = int(line1[64:68])

    # extracting individual values from Line 3
    inclination = float(line2[8:16])
    raan = float(line2[17:25])
    eccentricity = float("0." + line2[26:33])
    argument_of_perigee = float(line2[34:42])
    mean_anomaly = float(line2[43:51])
    mean_motion = float(line2[52:63])
    revolution_number = int(line2[63:68])





def print_tle_data(satellite):
    print(f"Name: {satellite["name"]}")
    print(f"Satellite Number: {satellite["satellite_number"]}")
    print(f"Classification: {satellite["classification"]}")
    print(f"International Designator Year: {satellite["international_designator_year"]}")
    print(f"International Designator Launch Number: {satellite["international_designator_launch_number"]}")
    print(f"International Designator Piece of Launch: {satellite["international_designator_piece_of_launch"]}")
    print(f"Epoch Year: {satellite["epoch_year"]}")
    print(f"Epoch Day: {satellite["epoch_day"]}")
    print(f"First Derivative Mean Motion: {satellite["first_derivative_mean_motion"]}")
    print(f"Second Derivative Mean Motion: {satellite["second_derivative_mean_motion"]}")
    print(f"B* Drag Term: {satellite["bstar_drag_term"]}")
    print(f"Ephemeris Type: {satellite["ephemeris_type"]}")
    print(f"Element Number: {satellite["element_number"]}")
    print(f"Inclination: {satellite["inclination"]}")
    print(f"RAAN: {satellite["raan"]}")
    print(f"Eccentricity: {satellite["eccentricity"]}")
    print(f"Argument of Perigee: {satellite["argument_of_perigee"]}")
    print(f"Mean Anomaly: {satellite["mean_anomaly"]}")
    print(f"Mean Motion: {satellite["mean_motion"]}")
    print(f"Revolution Number: {satellite["revolution_number"]}")
    


data = {
    "name": name,
    "satellite_number": satellite_number,
    "classification": classification,
    "international_designator_year": international_designator_year,
    "international_designator_launch_number": international_designator_launch_number,
    "international_designator_piece_of_launch": international_designator_piece_of_launch,
    "epoch_year": epoch_year,
    "epoch_day": epoch_day,
    "first_derivative_mean_motion": first_derivative_mean_motion,
    "second_derivative_mean_motion": second_derivative_mean_motion,
    "bstar_drag_term": bstar_drag_term,
    "ephemeris_type": ephemeris_type,
    "element_number": element_number,
    "inclination": inclination,
    "raan": raan,
    "eccentricity": eccentricity,
    "argument_of_perigee": argument_of_perigee,
    "mean_anomaly": mean_anomaly,
    "mean_motion": mean_motion,
    "revolution_number": revolution_number
}


print_tle_data(data)








%%latex
\begin{align}
a = \left(\frac{GM}{(2\pi n)^2} \right)^{1/3}
\end{align}


import math

def semi_major_axis(mean_motion):
    G = 6.674 * 10**-11   # gravitational constant
    M = 5.972 * 10**24    # mass of the Earth (kg)
    n = mean_motion * (2 * math.pi) / (24 * 60 * 60)   # convert mean motion from rev/dau to rad/s

    return (G * M / (n**2))**(1/3)


semimajor_axis = semi_major_axis(data["mean_motion"])
print(f"Semi-Major Axis: {semimajor_axis}")





%%latex
\begin{align}
T^2 = \frac{4 \pi^2}{G M} a^3
\end{align}


def orbital_period(semi_major_axis):
    G = 6.674 * 10**-11   # gravitational constant
    M = 5.972 * 10**24    # mass of the earth (kg)

    return 2 * math.pi * math.sqrt(semi_major_axis**3 / (G * M))


period = orbital_period(semimajor_axis)
print(f"Period: {period}")





pip install PyAstronomy


import numpy as np
from PyAstronomy import pyasl
import matplotlib.pyplot as plt
import matplotlib.animation as animation

print(semimajor_axis, period, data["eccentricity"], data["raan"], data["inclination"], data["argument_of_perigee"])


orbit = pyasl.KeplerEllipse(a=semimajor_axis, per=period, e=data["eccentricity"], Omega=data["raan"], i=data["inclination"], w=data["argument_of_perigee"])
t = np.linspace(0, period, 200)
positions = orbit.xyzPos(t)





plt.style.use("dark_background")
plt.plot(0, 0, "bo", markersize=11, label="Earth")
plt.plot(positions[::, 1], positions[::, 0], "w-", label="ISS Path Trajectory")
plt.legend(loc="lower right")
plt.title(f"Orbital Visualization of {data["name"]}")

plt.show()








import math
import pandas as pd
import matplotlib.pyplot as plt
import matplotlib.animation as animation
import PyAstronomy as pyasl

class Orbital_Visualizer:
    def __init__(self, tle_file):
        self.tle_file = tle_file
        self.name = ""
        self.line1 = ""
        self.line2 = ""
        self.satellite = None

    def extract_tle_contents(self):
        tle_content = open(self.tle_file, "r").readlines()

        # strip each line by removing leading and trailing whitespaces
        clean_tle_data = list(map(lambda line: line.strip(), tle_content))

        self.name = clean_tle_data[0]
        self.line1 = clean_tle_data[1]
        self.line2 = clean_tle_data[2]

    def parse_tle(self):
        # extracting individual values from Line 2
        satellite_number = int(self.line1[2:7])
        classification = self.line1[7]
        international_designator_year = int(self.line1[9:11])
        international_designator_launch_number = int(self.line1[11:14])
        international_designator_piece_of_launch = self.line1[14:17]
        epoch_year = int(self.line1[18:20])
        epoch_day = float(self.line1[20:32])
        first_derivative_mean_motion = float(self.line1[33:43])
        second_derivative_mean_motion = self.line1[45:52]
        bstar_drag_term = self.line1[53:61]
        ephemeris_type = int(self.line1[62])
        element_number = int(self.line1[64:68])
        
        # extracting individual values from Line 3
        inclination = float(self.line2[8:16])
        raan = float(self.line2[17:25])
        eccentricity = float("0." + self.line2[26:33])
        argument_of_perigee = float(self.line2[34:42])
        mean_anomaly = float(self.line2[43:51])
        mean_motion = float(self.line2[52:63])
        revolution_number = int(self.line2[63:68])

        self.satellite = {
            "name": self.name,
            "satellite_number": satellite_number,
            "classification": classification,
            "international_designator_year": international_designator_year,
            "international_designator_launch_number": international_designator_launch_number,
            "international_designator_piece_of_launch": international_designator_piece_of_launch,
            "epoch_year": epoch_year,
            "epoch_day": epoch_day,
            "first_derivative_mean_motion": first_derivative_mean_motion,
            "second_derivative_mean_motion": second_derivative_mean_motion,
            "bstar_drag_term": bstar_drag_term,
            "ephemeris_type": ephemeris_type,
            "element_number": element_number,
            "inclination": inclination,
            "raan": raan,
            "eccentricity": eccentricity,
            "argument_of_perigee": argument_of_perigee,
            "mean_anomaly": mean_anomaly,
            "mean_motion": mean_motion,
            "revolution_number": revolution_number,
            "orbital_period": 0,
            "semi_major_axis": 0
        }
        
    def calc_semimajor(self):
        G = 6.674 * 10**-11   # gravitational constant
        M = 5.972 * 10**24    # mass of the Earth (kg)
        n = self.satellite["mean_motion"] * (2 * math.pi) / (24 * 60 * 60)   # convert mean motion from rev/dau to rad/s

        self.satellite["semi_major_axis"] = (G * M / (n**2))**(1/3)

    def calc_orbital_period(self):
        G = 6.674 * 10**-11   # gravitational constant
        M = 5.972 * 10**24    # mass of the earth (kg)

        self.satellite["orbital_period"] = 2 * math.pi * math.sqrt(self.satellite["semi_major_axis"]**3 / (G * M))

    def plot_orbit(self):
        # KeplerEllipse function is used to calculate the position of a body in its elliptical orbit at any given time taking in parameters such as the semi-major axis, eccentricity, inclination, and argument of perigee
        orbit = pyasl.KeplerEllipse(a=semimajor_axis, per=period, e=data["eccentricity"], Omega=data["raan"], i=data["inclination"], w=data["argument_of_perigee"])

        period = self.satellite["orbital_period"]
        
        # x axis
        t = np.linspace(0, period, 200)

         = orbit.xyzPos()



