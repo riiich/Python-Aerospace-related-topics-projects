{
 "cells": [
  {
   "attachments": {
    "22f54bc5-e028-4e7e-984d-6191979a20f4.png": {
     "image/png": "[encoded data removed]"
    }
   },
   "cell_type": "markdown",
   "id": "a711c7c3-7146-4615-8cde-4304264869f3",
   "metadata": {},
   "source": [
    "# TLE (Two-Line Element Set)\n",
    "\n",
    "A TLE is a standardized format used to decribe the orbit of an object around Earth.\n",
    "\n",
    "NOTE: All TLE structures are the same.\n",
    "\n",
    "![image.png](attachment:22f54bc5-e028-4e7e-984d-6191979a20f4.png)\n",
    "\n",
    "TLEs are usually comprised of 2 or 3 lines. If there is a third line, the first line is designated for the name of the satellite. Let's do a breakdown of the following TLE:\n",
    "\n",
    "    ISS (ZARYA)\n",
    "    1 25544U 98067A   08264.51782528 -.00002182  00000-0 -11606-4 0  2927\n",
    "    2 25544  51.6416 247.4627 0006703 130.5360 325.0288 15.72125391563537\n",
    "\n",
    "<h2>TLE Breakdown</h2>\n",
    "\n",
    "<h3>Line One (Optional)</h3>\n",
    "\n",
    "- <strong>Satellite Name</strong>: 11 characters containing identifiable name of the satellite (ISS (ZARYA))\n",
    "\n",
    "<h3>Line Two</h3>\n",
    "\n",
    "- <strong>Satellite Catalog Number</strong>: catalog number of satellite defined by 5 characters (25544)\n",
    "- <strong>Classification</strong>: U: unclassified, C: classified, S: secret (U)\n",
    "- <strong>International Designator Year</strong>: last two digts of launch year (98)\n",
    "- <strong>International Designator Launch Number</strong>: launch number of the year (067)\n",
    "- <strong>International Designator Piece of Launch</strong>: piece of the launch (A)\n",
    "- <strong>Epoch Year</strong>: last two digits of year (U)\n",
    "- <strong>Epoch</strong>: day of the year and fractional portion of the day (264.51782528)\n",
    "- <strong>First Derivative of Mean Motion</strong>: the ballistic coefficient (-.00002182)\n",
    "- <strong>Second Derivative of Mean Motion</strong>: decimal point assumed (00000-0)\n",
    "- <strong>B* Drag Term</strong>: Radiation pressure coefficient. Decimal point assumed (-11606-4)\n",
    "- <strong>Ephemeris Type</strong>: always zero; onlny used in undistributed TLE data (0)\n",
    "- <strong>Element Set Number</strong>: incremented when a new TLE is generated for this object (292)\n",
    "- <strong>Checksum</strong>: checking modulo 10 (7)\n",
    "\n",
    "\n",
    "<h3>Line Two</h3>\n",
    "\n",
    "- <strong>Satellite Catalog Number</strong>: catalog number of satellite defined by 5 characters (25544)\n",
    "- <strong>Inclination</strong>: in degrees (51.6416)\n",
    "- <strong>Right Ascension</strong>: right ascension of the ascending node (degrees) (247.4627)\n",
    "- <strong>Eccentricity</strong>: decimal point assumed (0006703)\n",
    "- <strong>Argument of Perigee</strong>: in degrees (130.5360)\n",
    "- <strong>Mean Anomaly</strong>: in degrees (325.0288)\n",
    "- <strong>Mean Motion</strong>: revolutions per day (15.72125391)\n",
    "- <strong>Revolution Number of Epochs</strong>: revolution number at epoch (revolutions) (56353)\n",
    "- <strong>Checksum</strong>: checking modulo 10 (7)\n",
    "\n",
    "\n",
    "<h2>Parsing TLEs</h2>\n",
    "\n",
    "<h3>Step One: Read TLE from a text file</h3>\n",
    "\n",
    "In order to read data from a text file, you can utilize the <code>open</code> method within Python. The following snippet of code, reads each line within the <code>tle.txt</code> text file using read-mode (\"r\") and stores it inside a variable titled <code>tle_data</code> as an array."
   ]
  },
  {
   "cell_type": "code",
   "execution_count": 2,
   "id": "6f7e451f-e197-4e45-96eb-87bc31295c98",
   "metadata": {},
   "outputs": [],
   "source": [
    "path = \"tle.txt\"\n",
    "tle_data = open(path, \"r\").readlines()"
   ]
  },
  {
   "cell_type": "code",
   "execution_count": 3,
   "id": "1580ed92-f0e1-42a9-b219-c4a340f08276",
   "metadata": {},
   "outputs": [
    {
     "name": "stdout",
     "output_type": "stream",
     "text": [
      "['ISS (ZARYA)\\n', '1 25544U 98067A   08264.51782528 -.00002182  00000-0 -11606-4 0  2927\\n', '2 25544  51.6416 247.4627 0006703 130.5360 325.0288 15.72125391563537']\n"
     ]
    }
   ],
   "source": [
    "print(tle_data)\n",
    "print()"
   ]
  },
  {
   "cell_type": "markdown",
   "id": "b7eb9bc2-672b-4507-8ff3-a5a853d5a4a2",
   "metadata": {},
   "source": [
    "The above prints out an array of each line within the file."
   ]
  },
  {
   "cell_type": "markdown",
   "id": "b1a17fd4-841e-4bec-b9cd-2995438b59e3",
   "metadata": {},
   "source": [
    "# Step Two: Cleaning the Data\n",
    "\n",
    "We can be see that each line has a <code>\\n</code> appended at the end of the string. This is because <code>\\n</code> is a special character that delineates each line within a text file. We can eliminate the <code>\\n</code> by using the <code>strip()</code> method."
   ]
  },
  {
   "cell_type": "code",
   "execution_count": 17,
   "id": "9ce8a8da-9d92-433e-9292-11bc50e6f16d",
   "metadata": {},
   "outputs": [
    {
     "name": "stdout",
     "output_type": "stream",
     "text": [
      "['ISS (ZARYA)', '1 25544U 98067A   08264.51782528 -.00002182  00000-0 -11606-4 0  2927', '2 25544  51.6416 247.4627 0006703 130.5360 325.0288 15.72125391563537']\n"
     ]
    }
   ],
   "source": [
    "clean_tle_data = list(map(lambda line: line.strip(), tle_data))\n",
    "print(clean_tle_data)"
   ]
  },
  {
   "cell_type": "markdown",
   "id": "a29a698c-5459-419c-95b3-b0d69818e4b1",
   "metadata": {},
   "source": [
    "The above code uses a lambda function which is used when you want to run a simple function without writing a formal function for it."
   ]
  },
  {
   "cell_type": "markdown",
   "id": "fef30b73-68f9-45f8-b9d9-07bf29b46cb6",
   "metadata": {},
   "source": [
    "# Step 3: Interpreting the TLE\n",
    "\n",
    "The last step is to interpret the TLE and assign the right values to the proper variable names."
   ]
  },
  {
   "cell_type": "code",
   "execution_count": 25,
   "id": "c164a4f9-4ea6-4b85-be2b-26642709c131",
   "metadata": {},
   "outputs": [],
   "source": [
    "for i in range(len(clean_tle_data)):\n",
    "    name = clean_tle_data[0]\n",
    "    line1 = clean_tle_data[1]\n",
    "    line2 = clean_tle_data[2]\n",
    "\n",
    "    # extracting individual values from Line 2\n",
    "    satellite_number = int(line1[2:7])\n",
    "    classification = line1[7]\n",
    "    international_designator_year = int(line1[9:11])\n",
    "    international_designator_launch_number = int(line1[11:14])\n",
    "    international_designator_piece_of_launch = line1[14:17]\n",
    "    epoch_year = int(line1[18:20])\n",
    "    epoch_day = float(line1[20:32])\n",
    "    first_derivative_mean_motion = float(line1[33:43])\n",
    "    second_derivative_mean_motion = line1[45:52]\n",
    "    bstar_drag_term = line1[53:61]\n",
    "    ephemeris_type = int(line1[62])\n",
    "    element_number = int(line1[64:68])\n",
    "\n",
    "    # extracting individual values from Line 3\n",
    "    inclination = float(line2[8:16])\n",
    "    raan = float(line2[17:25])\n",
    "    eccentricity = float(\"0.\" + line2[26:33])\n",
    "    argument_of_perigee = float(line2[34:42])\n",
    "    mean_anomaly = float(line2[43:51])\n",
    "    mean_motion = float(line2[52:63])\n",
    "    revolution_number = int(line2[63:68])"
   ]
  },
  {
   "cell_type": "markdown",
   "id": "ac8dda14-b4e3-4874-b973-e1a33183b9fc",
   "metadata": {},
   "source": [
    "# Step 4: Printing the TLE Data"
   ]
  },
  {
   "cell_type": "code",
   "execution_count": 26,
   "id": "4cfa45e9-1788-4156-9b5c-438f5abcbfba",
   "metadata": {},
   "outputs": [],
   "source": [
    "def print_tle_data(satellite):\n",
    "    print(f\"Name: {satellite[\"name\"]}\")\n",
    "    print(f\"Satellite Number: {satellite[\"satellite_number\"]}\")\n",
    "    print(f\"Classification: {satellite[\"classification\"]}\")\n",
    "    print(f\"International Designator Year: {satellite[\"international_designator_year\"]}\")\n",
    "    print(f\"International Designator Launch Number: {satellite[\"international_designator_launch_number\"]}\")\n",
    "    print(f\"International Designator Piece of Launch: {satellite[\"international_designator_piece_of_launch\"]}\")\n",
    "    print(f\"Epoch Year: {satellite[\"epoch_year\"]}\")\n",
    "    print(f\"Epoch Day: {satellite[\"epoch_day\"]}\")\n",
    "    print(f\"First Derivative Mean Motion: {satellite[\"first_derivative_mean_motion\"]}\")\n",
    "    print(f\"Second Derivative Mean Motion: {satellite[\"second_derivative_mean_motion\"]}\")\n",
    "    print(f\"B* Drag Term: {satellite[\"bstar_drag_term\"]}\")\n",
    "    print(f\"Ephemeris Type: {satellite[\"ephemeris_type\"]}\")\n",
    "    print(f\"Element Number: {satellite[\"element_number\"]}\")\n",
    "    print(f\"Inclination: {satellite[\"inclination\"]}\")\n",
    "    print(f\"RAAN: {satellite[\"raan\"]}\")\n",
    "    print(f\"Eccentricity: {satellite[\"eccentricity\"]}\")\n",
    "    print(f\"Argument of Perigee: {satellite[\"argument_of_perigee\"]}\")\n",
    "    print(f\"Mean Anomaly: {satellite[\"mean_anomaly\"]}\")\n",
    "    print(f\"Mean Motion: {satellite[\"mean_motion\"]}\")\n",
    "    print(f\"Revolution Number: {satellite[\"revolution_number\"]}\")\n",
    "    "
   ]
  },
  {
   "cell_type": "code",
   "execution_count": 27,
   "id": "3c099118-b296-4fec-b5df-f280f52afae8",
   "metadata": {},
   "outputs": [],
   "source": [
    "data = {\n",
    "    \"name\": name,\n",
    "    \"satellite_number\": satellite_number,\n",
    "    \"classification\": classification,\n",
    "    \"international_designator_year\": international_designator_year,\n",
    "    \"international_designator_launch_number\": international_designator_launch_number,\n",
    "    \"international_designator_piece_of_launch\": international_designator_piece_of_launch,\n",
    "    \"epoch_year\": epoch_year,\n",
    "    \"epoch_day\": epoch_day,\n",
    "    \"first_derivative_mean_motion\": first_derivative_mean_motion,\n",
    "    \"second_derivative_mean_motion\": second_derivative_mean_motion,\n",
    "    \"bstar_drag_term\": bstar_drag_term,\n",
    "    \"ephemeris_type\": ephemeris_type,\n",
    "    \"element_number\": element_number,\n",
    "    \"inclination\": inclination,\n",
    "    \"raan\": raan,\n",
    "    \"eccentricity\": eccentricity,\n",
    "    \"argument_of_perigee\": argument_of_perigee,\n",
    "    \"mean_anomaly\": mean_anomaly,\n",
    "    \"mean_motion\": mean_motion,\n",
    "    \"revolution_number\": revolution_number\n",
    "}"
   ]
  },
  {
   "cell_type": "code",
   "execution_count": 28,
   "id": "12ecf16f-bdca-4696-81d4-50ed0e56321f",
   "metadata": {},
   "outputs": [
    {
     "name": "stdout",
     "output_type": "stream",
     "text": [
      "Name: ISS (ZARYA)\n",
      "Satellite Number: 25544\n",
      "Classification: U\n",
      "International Designator Year: 98\n",
      "International Designator Launch Number: 67\n",
      "International Designator Piece of Launch: A  \n",
      "Epoch Year: 8\n",
      "Epoch Day: 264.51782528\n",
      "First Derivative Mean Motion: -2.182e-05\n",
      "Second Derivative Mean Motion: 00000-0\n",
      "B* Drag Term: -11606-4\n",
      "Ephemeris Type: 0\n",
      "Element Number: 292\n",
      "Inclination: 51.6416\n",
      "RAAN: 247.4627\n",
      "Eccentricity: 0.0006703\n",
      "Argument of Perigee: 130.536\n",
      "Mean Anomaly: 325.0288\n",
      "Mean Motion: 15.72125391\n",
      "Revolution Number: 56353\n"
     ]
    }
   ],
   "source": [
    "print_tle_data(data)"
   ]
  },
  {
   "cell_type": "markdown",
   "id": "85401cf5-18c9-4ac7-bb9b-a3dbf1ea90f8",
   "metadata": {},
   "source": [
    "<h2>Orbital Visualizations</h2>\n",
    "\n",
    "Using tools in NumPy and Matplotlib, we can create visualizations of orbits!"
   ]
  },
  {
   "cell_type": "markdown",
   "id": "76046b90-244a-46a0-8f95-044acd34906e",
   "metadata": {},
   "source": [
    "<h2>Calcukating Semi-Major Axis</h2>\n",
    "\n",
    "Before visualizing the orbit of a TLE, we need to calcuate a few things. To calculate the semi-major axis of an orbit, do the following:"
   ]
  },
  {
   "cell_type": "code",
   "execution_count": 32,
   "id": "f5bbefc1-e681-47fc-b4a0-d026519c1a5e",
   "metadata": {},
   "outputs": [
    {
     "data": {
      "text/latex": [
       "\\begin{align}\n",
       "a = \\left(\\frac{GM}{(2\\pi n)^2} \\right)^{1/3}\n",
       "\\end{align}\n"
      ],
      "text/plain": [
       "<IPython.core.display.Latex object>"
      ]
     },
     "metadata": {},
     "output_type": "display_data"
    }
   ],
   "source": [
    "%%latex\n",
    "\\begin{align}\n",
    "a = \\left(\\frac{GM}{(2\\pi n)^2} \\right)^{1/3}\n",
    "\\end{align}"
   ]
  },
  {
   "cell_type": "code",
   "execution_count": 33,
   "id": "13a289bf-0009-4cbe-b7ca-90f540cc74d5",
   "metadata": {},
   "outputs": [],
   "source": [
    "import math\n",
    "\n",
    "def semi_major_axis(mean_motion):\n",
    "    G = 6.674 * 10**-11   # gravitational constant\n",
    "    M = 5.972 * 10**24    # mass of the Earth (kg)\n",
    "    n = mean_motion * (2 * math.pi) / (24 * 60 * 60)   # convert mean motion from rev/dau to rad/s\n",
    "\n",
    "    return (G * M / (n**2))**(1/3)"
   ]
  },
  {
   "cell_type": "code",
   "execution_count": 40,
   "id": "be9a89ea-7abf-4a3a-b294-b31712d03bdd",
   "metadata": {},
   "outputs": [
    {
     "name": "stdout",
     "output_type": "stream",
     "text": [
      "Semi-Major Axis: 6730796.526160354\n"
     ]
    }
   ],
   "source": [
    "semimajor_axis = semi_major_axis(data[\"mean_motion\"])\n",
    "print(f\"Semi-Major Axis: {semimajor_axis}\")"
   ]
  },
  {
   "cell_type": "markdown",
   "id": "f675c7f8-0ad3-4796-8d88-a572f3bd75e5",
   "metadata": {},
   "source": [
    "<h2>Calculating Orbital Period</h2>\n",
    "\n",
    "To calculate the orbital period of an orbit, do the following:"
   ]
  },
  {
   "cell_type": "code",
   "execution_count": 35,
   "id": "05adce55-47fa-4828-aa03-a313c1250c61",
   "metadata": {},
   "outputs": [
    {
     "data": {
      "text/latex": [
       "\\begin{align}\n",
       "T^2 = \\frac{4 \\pi^2}{G M} a^3\n",
       "\\end{align}\n"
      ],
      "text/plain": [
       "<IPython.core.display.Latex object>"
      ]
     },
     "metadata": {},
     "output_type": "display_data"
    }
   ],
   "source": [
    "%%latex\n",
    "\\begin{align}\n",
    "T^2 = \\frac{4 \\pi^2}{G M} a^3\n",
    "\\end{align}"
   ]
  },
  {
   "cell_type": "code",
   "execution_count": 36,
   "id": "1f4b1ffd-e2b2-4555-81bc-e70e910dad0e",
   "metadata": {},
   "outputs": [],
   "source": [
    "def orbital_period(semi_major_axis):\n",
    "    G = 6.674 * 10**-11   # gravitational constant\n",
    "    M = 5.972 * 10**24    # mass of the earth (kg)\n",
    "\n",
    "    return 2 * math.pi * math.sqrt(semi_major_axis**3 / (G * M))"
   ]
  },
  {
   "cell_type": "code",
   "execution_count": 39,
   "id": "b2d2c2fc-1cf9-4761-a00e-e0d21da4d2d4",
   "metadata": {},
   "outputs": [
    {
     "name": "stdout",
     "output_type": "stream",
     "text": [
      "Period: 5495.744836551647\n"
     ]
    }
   ],
   "source": [
    "period = orbital_period(semimajor_axis)\n",
    "print(f\"Period: {period}\")"
   ]
  },
  {
   "cell_type": "markdown",
   "id": "d3536dfc-47f6-46db-b2f4-5d03e6759fa8",
   "metadata": {},
   "source": [
    "<h2>PyAstronomy Library</h2>\n",
    "\n",
    "PyAstronomy is a comprehensive Python library for astronomy-related calculations and data analysis. We will be using it to help with the math of the orbital visualization, so we don't have to do all the tedious mathematical work.\n",
    "\n",
    "Install by running: <code>pip install PyAstronomy</code>"
   ]
  },
  {
   "cell_type": "code",
   "execution_count": 16,
   "id": "b1060685-d8d2-4194-821a-e5097747fc1f",
   "metadata": {},
   "outputs": [
    {
     "name": "stdout",
     "output_type": "stream",
     "text": [
      "Requirement already satisfied: PyAstronomy in c:\\users\\horic\\anaconda3\\lib\\site-packages (0.22.0)\n",
      "Requirement already satisfied: numpy<2 in c:\\users\\horic\\anaconda3\\lib\\site-packages (from PyAstronomy) (1.26.4)\n",
      "Requirement already satisfied: six in c:\\users\\horic\\anaconda3\\lib\\site-packages (from PyAstronomy) (1.16.0)\n",
      "Requirement already satisfied: scipy in c:\\users\\horic\\anaconda3\\lib\\site-packages (from PyAstronomy) (1.13.1)\n",
      "Requirement already satisfied: quantities in c:\\users\\horic\\anaconda3\\lib\\site-packages (from PyAstronomy) (0.16.1)\n",
      "Requirement already satisfied: bidict in c:\\users\\horic\\anaconda3\\lib\\site-packages (from PyAstronomy) (0.23.1)\n",
      "Note: you may need to restart the kernel to use updated packages.\n"
     ]
    }
   ],
   "source": [
    "pip install PyAstronomy"
   ]
  },
  {
   "cell_type": "code",
   "execution_count": 47,
   "id": "4510ba5c-eff1-4f8e-ae86-dde2134ab662",
   "metadata": {},
   "outputs": [
    {
     "name": "stdout",
     "output_type": "stream",
     "text": [
      "6730796.526160354 5495.744836551647 0.0006703 247.4627 51.6416 130.536\n"
     ]
    }
   ],
   "source": [
    "import numpy as np\n",
    "from PyAstronomy import pyasl\n",
    "import matplotlib.pyplot as plt\n",
    "import matplotlib.animation as animation\n",
    "\n",
    "print(semimajor_axis, period, data[\"eccentricity\"], data[\"raan\"], data[\"inclination\"], data[\"argument_of_perigee\"])"
   ]
  },
  {
   "cell_type": "code",
   "execution_count": 50,
   "id": "7f004050-83f2-4a03-bbf0-b849a2919ce6",
   "metadata": {},
   "outputs": [],
   "source": [
    "orbit = pyasl.KeplerEllipse(a=semimajor_axis, per=period, e=data[\"eccentricity\"], Omega=data[\"raan\"], i=data[\"inclination\"], w=data[\"argument_of_perigee\"])\n",
    "t = np.linspace(0, period, 200)\n",
    "positions = orbit.xyzPos(t)"
   ]
  },
  {
   "cell_type": "markdown",
   "id": "40fbba48-a108-41f6-8f67-ee4f9ed095c9",
   "metadata": {},
   "source": [
    "The code above calculates the position of the orbiting object (such as a satellite) at the specified times given by the array <code>t</code>"
   ]
  },
  {
   "cell_type": "code",
   "execution_count": 53,
   "id": "df8d2772-9e45-43cb-8473-2e241cb8b57f",
   "metadata": {},
   "outputs": [
    {
     "data": {
      "image/png": "[encoded data removed]",
      "text/plain": [
       "<Figure size 640x480 with 1 Axes>"
      ]
     },
     "metadata": {},
     "output_type": "display_data"
    }
   ],
   "source": [
    "plt.style.use(\"dark_background\")\n",
    "plt.plot(0, 0, \"bo\", markersize=11, label=\"Earth\")\n",
    "plt.plot(positions[::, 1], positions[::, 0], \"w-\", label=\"ISS Path Trajectory\")\n",
    "plt.legend(loc=\"lower right\")\n",
    "plt.title(f\"Orbital Visualization of {data[\"name\"]}\")\n",
    "\n",
    "plt.show()"
   ]
  },
  {
   "cell_type": "markdown",
   "id": "57869abd-80d5-4945-9fbd-aeb4cdd0dcdf",
   "metadata": {},
   "source": [
    "The visualization above shows the orbit of the International Space Station (ISS) from the TLE data text file. \n",
    "\n",
    "It takes the information from the TLE and computes the mathematical values to visualize the orbit."
   ]
  },
  {
   "cell_type": "markdown",
   "id": "6cfa2c7b-ad5b-4bb9-9c99-c16aea32cf82",
   "metadata": {},
   "source": [
    "# 1. Create an Orbit Visualizer\n",
    "\n",
    "Imagine you are an intern at NASA JPL and your first task is to make a program that parses and visualizes TLEs. \n",
    "\n",
    "<h2>Objectives:</h2>\n",
    "\n",
    "\n",
    "- Create a class called <code>Orbital_Visualizer</code> which takes in the name of a TLE file within the constructor.\n",
    "- Assign <code>name</code>, <code>line1</code>, and <code>line2</code> to empty strings within the constructor.\n",
    "- Assign <code>tle_file</code> to the name of a TLE file within the constructor.\n",
    "- Create a variable named <code>satellite</code> and assign it to <code>None</code> within the construcor.\n",
    "- Create a method within the class called <code>extract_tle_contents</code> that extracts each line from the TLE file, cleans them, and stores them within <code>name</code>, <code>line1</code>, and <code>line2</code>, respectively.\n",
    "- Create another method called <code>parse_tle</code> that parses the TLE contents from each of the variables and stores them inside of an object that is assigned to <code>satellite</code>.\n",
    "- Make two additional fields within <code>satellite</code> called <code>orbital_period</code> and <code>semi_major_axis</code> and set them both to 0.\n",
    "- Create a method called <code>calc_semimajor</code> which sets the semi-major axis within the satellite object using <code>self.satellite[\"mean_motion\"]</code>.\n",
    "- Create a method called <code>calc_orbital_period</code> which sets the orbital period within the satellite object using <code>self.satellite[\"semi_major_axis\"]</code>.\n",
    "- Create a method called <code>plot_orbit</code> that visualizes the orbit of the TLE using <code>PyAstronomy</code> and <code>matplotlib</code>."
   ]
  },
  {
   "cell_type": "code",
   "execution_count": 37,
   "id": "b4c23187-0d73-4a87-a195-0291c2054118",
   "metadata": {},
   "outputs": [],
   "source": [
    "import math\n",
    "import pandas as pd\n",
    "import numpy as np\n",
    "import matplotlib.pyplot as plt\n",
    "import matplotlib.animation as animation\n",
    "from PyAstronomy import pyasl\n",
    "\n",
    "class Orbital_Visualizer:\n",
    "    def __init__(self, tle_file):\n",
    "        self.tle_file = tle_file\n",
    "        self.name = \"\"\n",
    "        self.line1 = \"\"\n",
    "        self.line2 = \"\"\n",
    "        self.satellite = None\n",
    "\n",
    "    def extract_tle_contents(self):\n",
    "        tle_content = open(self.tle_file, \"r\").readlines()\n",
    "\n",
    "        # strip each line by removing leading and trailing whitespaces\n",
    "        clean_tle_data = list(map(lambda line: line.strip(), tle_content))\n",
    "\n",
    "        self.name = clean_tle_data[0]\n",
    "        self.line1 = clean_tle_data[1]\n",
    "        self.line2 = clean_tle_data[2]\n",
    "\n",
    "    def parse_tle(self):\n",
    "        # extracting individual values from Line 2\n",
    "        satellite_number = int(self.line1[2:7])\n",
    "        classification = self.line1[7]\n",
    "        international_designator_year = int(self.line1[9:11])\n",
    "        international_designator_launch_number = int(self.line1[11:14])\n",
    "        international_designator_piece_of_launch = self.line1[14:17]\n",
    "        epoch_year = int(self.line1[18:20])\n",
    "        epoch_day = float(self.line1[20:32])\n",
    "        first_derivative_mean_motion = float(self.line1[33:43])\n",
    "        second_derivative_mean_motion = self.line1[45:52]\n",
    "        bstar_drag_term = self.line1[53:61]\n",
    "        ephemeris_type = int(self.line1[62])\n",
    "        element_number = int(self.line1[64:68])\n",
    "        \n",
    "        # extracting individual values from Line 3\n",
    "        inclination = float(self.line2[8:16])\n",
    "        raan = float(self.line2[17:25])\n",
    "        eccentricity = float(\"0.\" + self.line2[26:33])\n",
    "        argument_of_perigee = float(self.line2[34:42])\n",
    "        mean_anomaly = float(self.line2[43:51])\n",
    "        mean_motion = float(self.line2[52:63])\n",
    "        revolution_number = int(self.line2[63:68])\n",
    "\n",
    "        self.satellite = {\n",
    "            \"name\": self.name,\n",
    "            \"satellite_number\": satellite_number,\n",
    "            \"classification\": classification,\n",
    "            \"international_designator_year\": international_designator_year,\n",
    "            \"international_designator_launch_number\": international_designator_launch_number,\n",
    "            \"international_designator_piece_of_launch\": international_designator_piece_of_launch,\n",
    "            \"epoch_year\": epoch_year,\n",
    "            \"epoch_day\": epoch_day,\n",
    "            \"first_derivative_mean_motion\": first_derivative_mean_motion,\n",
    "            \"second_derivative_mean_motion\": second_derivative_mean_motion,\n",
    "            \"bstar_drag_term\": bstar_drag_term,\n",
    "            \"ephemeris_type\": ephemeris_type,\n",
    "            \"element_number\": element_number,\n",
    "            \"inclination\": inclination,\n",
    "            \"raan\": raan,\n",
    "            \"eccentricity\": eccentricity,\n",
    "            \"argument_of_perigee\": argument_of_perigee,\n",
    "            \"mean_anomaly\": mean_anomaly,\n",
    "            \"mean_motion\": mean_motion,\n",
    "            \"revolution_number\": revolution_number,\n",
    "            \"orbital_period\": 0,\n",
    "            \"semi_major_axis\": 0\n",
    "        }\n",
    "        \n",
    "    def calc_semimajor(self):\n",
    "        G = 6.674 * 10**-11   # gravitational constant\n",
    "        M = 5.972 * 10**24    # mass of the Earth (kg)\n",
    "        n = self.satellite[\"mean_motion\"] * (2 * math.pi) / (24 * 60 * 60)   # convert mean motion from rev/dau to rad/s\n",
    "\n",
    "        self.satellite[\"semi_major_axis\"] = (G * M / (n**2))**(1/3)\n",
    "\n",
    "    def calc_orbital_period(self):\n",
    "        G = 6.674 * 10**-11   # gravitational constant\n",
    "        M = 5.972 * 10**24    # mass of the earth (kg)\n",
    "\n",
    "        self.satellite[\"orbital_period\"] = 2 * math.pi * math.sqrt(self.satellite[\"semi_major_axis\"]**3 / (G * M))\n",
    "\n",
    "    def plot_orbit(self):\n",
    "        # make sure the tle is parsed\n",
    "        if self.satellite is None:\n",
    "            print(\"The TLE has NOT been parsed!!!\")\n",
    "            return\n",
    "        \n",
    "        period = self.satellite[\"orbital_period\"]\n",
    "        \n",
    "        # KeplerEllipse function is used to calculate the position of a body in its elliptical orbit at any given time taking in parameters such as the semi-major axis, eccentricity, inclination, and argument of perigee\n",
    "        orbit = pyasl.KeplerEllipse(a=self.satellite[\"semi_major_axis\"], per=self.satellite[\"orbital_period\"], e=self.satellite[\"eccentricity\"], Omega=self.satellite[\"raan\"], i=self.satellite[\"inclination\"], w=self.satellite[\"argument_of_perigee\"])\n",
    "\n",
    "        # x axis \n",
    "        t = np.linspace(0, period, 200)\n",
    "\n",
    "        positions = orbit.xyzPos(t)\n",
    "\n",
    "        plt.style.use(\"dark_background\")\n",
    "        plt.plot(0, 0, \"go\", markersize=10, label=\"Earth\")\n",
    "        plt.plot(positions[::, 1], positions[::, 0], \"w-\", label=\"ISS Path Trajectory\")\n",
    "        plt.legend(loc=\"lower right\")\n",
    "        plt.title(f\"Orbital Visualization of {self.name}\")\n",
    "\n",
    "        plt.show()"
   ]
  },
  {
   "cell_type": "code",
   "execution_count": 38,
   "id": "07aedd97-faf0-4127-91e3-83155b81e4c3",
   "metadata": {},
   "outputs": [
    {
     "data": {
      "image/png": "[encoded data removed]",
      "text/plain": [
       "<Figure size 640x480 with 1 Axes>"
      ]
     },
     "metadata": {},
     "output_type": "display_data"
    }
   ],
   "source": [
    "orbital_visualizer = Orbital_Visualizer(\"tle.txt\")\n",
    "orbital_visualizer.extract_tle_contents()\n",
    "orbital_visualizer.parse_tle()\n",
    "orbital_visualizer.calc_semimajor()\n",
    "orbital_visualizer.calc_orbital_period()\n",
    "\n",
    "orbital_visualizer.plot_orbit()"
   ]
  },
  {
   "cell_type": "code",
   "execution_count": null,
   "id": "62a2a4a3-fc48-4ec6-ac0a-47f778eea597",
   "metadata": {},
   "outputs": [],
   "source": []
  }
 ],
 "metadata": {
  "kernelspec": {
   "display_name": "Python 3 (ipykernel)",
   "language": "python",
   "name": "python3"
  },
  "language_info": {
   "codemirror_mode": {
    "name": "ipython",
    "version": 3
   },
   "file_extension": ".py",
   "mimetype": "text/x-python",
   "name": "python",
   "nbconvert_exporter": "python",
   "pygments_lexer": "ipython3",
   "version": "3.12.4"
  }
 },
 "nbformat": 4,
 "nbformat_minor": 5
}
