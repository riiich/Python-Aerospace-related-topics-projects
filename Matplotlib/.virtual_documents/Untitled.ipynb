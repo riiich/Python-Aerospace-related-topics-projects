


import matplotlib.pyplot as plt


# create data
x = [1,2,3,4,5]
y = [2,3,5,7,11]

# plot data
plt.plot(x, y)

# show plot
plt.show()





# customize appearance
plt.plot(x, y, color="green", linestyle="--", marker="o", markersize=5)

# show plot
plt.show()





# add labels and a title
plt.plot(x, y)
plt.xlabel("X-axis")
plt.ylabel("Y-axis")
plt.title("An Example Line Plot!")

# show plot
plt.show()





# sample dataset (time, points, and brightness measurements)
time_points = [0, 1, 2, 3, 4, 5, 6, 7, 8, 9] 
brightness = [10, 30, 80, 140, 120, 100, 80, 60, 30, 10]


import matplotlib.pyplot as plt

plt.plot(time_points, brightness, color="purple", linestyle="--", marker="o", markersize="5")
plt.xlabel("Time")
plt.ylabel("Brightness")
plt.title("Brightness of Supernova")


plt.show()





import math
import numpy as np





x = np.linspace(0, 2*math.pi, 100)
y = np.sin(x)

plt.plot(x, y)
plt.xlabel("x")
plt.ylabel("sin(x)")
plt.title("Plot of sin(x)")
plt.grid(True)

plt.show()





x = np.linspace(0, 2*math.pi, 100)
y1 = np.sin(x)
y2 = np.cos(x)

plt.plot(x, y1, label="sin(x)")
plt.plot(x, y2, label="cos(x)")
plt.xlabel("x")
plt.ylabel("y")





from mpl_toolkits.mplot3d import Axes3D


fig = plt.figure()
ax = fig.add_subplot(111, projection="3d")

X = np.linspace(-5, 5, 100)
Y = np.linspace(-5, 5, 100)
X, Y = np.meshgrid(X, Y)
Z = np.sin(np.sqrt(X**2 + Y**2))

# cmap is the color style of the visual
ax.plot_surface(X, Y, Z, cmap="viridis")

ax.set_xlabel("X")
ax.set_ylabel("Y")
ax.set_zlabel("Z")
ax.set_title("3D Surface Plot of sin(sqrt(X^2 + Y^2))")

plt.show()





import matplotlib.pyplot as plt
import math
import numpy as np

x = np.linspace(0, 2*math.pi, 50)
y = np.tan(x)

plt.plot(x, y)
plt.xlabel("X")
plt.ylabel("tan(x)")
plt.title("Plot of tan(x)")
plt.grid(True)

plt.show()


x = np.linspace(0, 2*math.pi, 50)
y1 = np.tan(x)
y2 = np.cos(x)

plt.plot(x, y1, label="tan(x)")
plt.plot(x, y2, label="cos(x)")
plt.xlabel("X")
plt.ylabel("Y")
plt.title("Plot of tan(x) and cos(x)")
plt.grid(True)

plt.show()



