{
 "cells": [
  {
   "cell_type": "markdown",
   "id": "6e7bec59-b566-4482-83c9-f5482fd04469",
   "metadata": {},
   "source": [
    "# Solar System Visualization\n",
    "\n",
    "<h2>Objectives</h2>\n",
    "\n",
    "- Visualize the solar system with Python\n",
    "- Utilize the <code>matplotlib</code>, <code>numpy</code>, and <code>mpl_toolkits</code> libraries\n",
    "- Create a 2D visualization of the solar system\n",
    "- Create a 3D visualization of the solar system\n",
    "\n",
    "<h2>Conceptual Space Knowledge</h2>\n",
    "\n",
    "Some key concepts:\n",
    "\n",
    "Our solar system is comprised of the following components:\n",
    "\n",
    "<h2>Sun:</h2>\n",
    "\n",
    "- The sun is a G-type star that is the central body of the solar system.\n",
    "\n",
    "<h2>Planets:</h2>\n",
    "\n",
    "- Our solar system consists of 8 planets which can be categorized as terrestrial and gas giants.\n",
    "\n",
    "<strong>Terrestrial Planets:</strong>\n",
    "\n",
    "- Mercury\n",
    "- Venus\n",
    "- Earth\n",
    "- Mars\n",
    "\n",
    "<strong>Gas Giants:</strong>\n",
    "\n",
    "- Jupiter\n",
    "- Saturn\n",
    "- Uranus\n",
    "- Neptune\n",
    "\n",
    "<strong>Dwarf Planets:</strong>\n",
    "\n",
    "- Pluto\n",
    "\n",
    "<strong>Moons and Natural Satellites:</strong>\n",
    "\n",
    "- Moons: notable moons include Titan, Europa, and Ganymede\n",
    "\n",
    "<h2>Asteroids, Comets, and Kuiper Belt Objects:</h2>\n",
    "\n",
    "- Asteroids: rocky objects that orbit the sun, primarily found in the asteroid belt between Mars and Jupiter\n",
    "- Comets: bodies with highly ellipticl orbits that originate from the Kuiper Belt or Oort Cloud\n",
    "- Kuiper Belt Objects: objects in the Kuiper Belt beyond Neptune's orbit, including dwarf planets like Pluto and Eris\n",
    "\n"
   ]
  }
 ],
 "metadata": {
  "kernelspec": {
   "display_name": "Python 3 (ipykernel)",
   "language": "python",
   "name": "python3"
  },
  "language_info": {
   "codemirror_mode": {
    "name": "ipython",
    "version": 3
   },
   "file_extension": ".py",
   "mimetype": "text/x-python",
   "name": "python",
   "nbconvert_exporter": "python",
   "pygments_lexer": "ipython3",
   "version": "3.12.4"
  }
 },
 "nbformat": 4,
 "nbformat_minor": 5
}
