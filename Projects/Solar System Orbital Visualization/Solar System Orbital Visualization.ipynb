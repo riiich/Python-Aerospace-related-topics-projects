{
 "cells": [
  {
   "cell_type": "markdown",
   "id": "6e7bec59-b566-4482-83c9-f5482fd04469",
   "metadata": {},
   "source": [
    "# Solar System Visualization\n",
    "\n",
    "<h2>Objectives</h2>\n",
    "\n",
    "- Visualize the solar system with Python\n",
    "- Utilize the <code>matplotlib</code>, <code>numpy</code>, and <code>mpl_toolkits</code> libraries\n",
    "- Create a 2D visualization of the solar system\n",
    "- Create a 3D visualization of the solar system\n",
    "\n",
    "<h2>Conceptual Space Knowledge</h2>\n",
    "\n",
    "Some key concepts:\n",
    "\n",
    "Our solar system is comprised of the following components:\n",
    "\n",
    "<h2>Sun:</h2>\n",
    "\n",
    "- The sun is a G-type star that is the central body of the solar system.\n",
    "\n",
    "<h2>Planets:</h2>\n",
    "\n",
    "- Our solar system consists of 8 planets which can be categorized as terrestrial and gas giants.\n",
    "\n",
    "<strong>Terrestrial Planets:</strong>\n",
    "\n",
    "- Mercury\n",
    "- Venus\n",
    "- Earth\n",
    "- Mars\n",
    "\n",
    "<strong>Gas Giants:</strong>\n",
    "\n",
    "- Jupiter\n",
    "- Saturn\n",
    "- Uranus\n",
    "- Neptune\n",
    "\n",
    "<strong>Dwarf Planets:</strong>\n",
    "\n",
    "- Pluto\n",
    "\n",
    "<strong>Moons and Natural Satellites:</strong>\n",
    "\n",
    "- Moons: notable moons include Titan, Europa, and Ganymede\n",
    "\n",
    "<h2>Asteroids, Comets, and Kuiper Belt Objects:</h2>\n",
    "\n",
    "- Asteroids: rocky objects that orbit the sun, primarily found in the asteroid belt between Mars and Jupiter\n",
    "- Comets: bodies with highly ellipticl orbits that originate from the Kuiper Belt or Oort Cloud\n",
    "- Kuiper Belt Objects: objects in the Kuiper Belt beyond Neptune's orbit, including dwarf planets like Pluto and Eris\n",
    "\n",
    "\n",
    "| Planet | Orbital Period (Earth Years) | Eccentricity | Inclination (Degrees) |\n",
    "| :- | :- | :- | :- |\n",
    "| Mercury | 0.24 | 0.2056 | 7.005\n",
    "| Venus | 0.62 | 0.0067 | 3.394\n",
    "| Earth | 1.0 | 0.0167 | 0\n",
    "| Mars | 1.88 | 0.0934 | 1.850\n",
    "| Jupiter | 11.86 | 0.0489 | 1.305\n",
    "| Saturn | 29.46 | 0.0565 | 2.485\n",
    "| Uranus | 89.01 | 0.0461 | 0.772\n",
    "| Neptune | 164.8 | 0.0086 | 1.769"
   ]
  },
  {
   "cell_type": "code",
   "execution_count": null,
   "id": "b8bba5a0-efd6-4302-9beb-bd821f1d55b4",
   "metadata": {},
   "outputs": [],
   "source": [
    "import numpy as np\n",
    "import matplotlib.pyplot as plt\n",
    "import mpl_toolkit.mplot3d import Axes3D"
   ]
  },
  {
   "cell_type": "code",
   "execution_count": null,
   "id": "8a41e555-0ab2-4ae2-9044-ff7219f8fe5a",
   "metadata": {},
   "outputs": [],
   "source": [
    "# data for all the planets\n",
    "planets = [\"Mercury\", \"Venus\", \"Earth\", \"Mars\", \"Jupiter\", \"Saturn\", \"Uranus\", \"Neptune\"]\n",
    "semi_major_axis = [0.39, 0.72, 1.0, 1.52, 5.2, 9.58, 19.22, 30.05]\n",
    "orbit_period = [0.24, 0.62, 1.0, 1.88, 11.86, 29.46, 84.01, 164.8]"
   ]
  },
  {
   "cell_type": "markdown",
   "id": "46be249c-fb7f-4f17-8385-10e0be2d2fef",
   "metadata": {},
   "source": [
    "# Plotting Orbits in 2D\n",
    "\n",
    "Since the eccentricity and inclincation of each of the planets are quite low, we can treat each of their orbital paths as circles.\n",
    "\n",
    "We will place the sun at the center with the following method:\n",
    "    <code>ax.scatter(0, 0, color=\"yellow\", s=1</code>"
   ]
  }
 ],
 "metadata": {
  "kernelspec": {
   "display_name": "Python 3 (ipykernel)",
   "language": "python",
   "name": "python3"
  },
  "language_info": {
   "codemirror_mode": {
    "name": "ipython",
    "version": 3
   },
   "file_extension": ".py",
   "mimetype": "text/x-python",
   "name": "python",
   "nbconvert_exporter": "python",
   "pygments_lexer": "ipython3",
   "version": "3.12.4"
  }
 },
 "nbformat": 4,
 "nbformat_minor": 5
}
