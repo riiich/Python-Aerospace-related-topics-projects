


import numpy as np
import matplotlib.pyplot as plt
from mpl_toolkits.mplot3d import Axes3D


# data for all the planets
planets = ["Mercury", "Venus", "Earth", "Mars", "Jupiter", "Saturn", "Uranus", "Neptune"]
semi_major_axis = [0.39, 0.72, 1.0, 1.52, 5.2, 9.58, 19.22, 30.05]
orbit_period = [0.24, 0.62, 1.0, 1.88, 11.86, 29.46, 84.01, 164.8]





plt.style.use("dark_background")

# create the figure and axis
fig, ax = plt.subplots(figsize=(8, 8))

# plot the sun at the center (0, 0)
ax.scatter(0, 0, color="yellow", s=100, label="Sun")

# plot orbits of the planets
for i, planet in enumerate(planets):
    orbit_radius = semi_major_axis[i]
    orbit_theta = np.linspace(0, 2*np.pi, 100)
    x = orbit_radius * np.cos(orbit_theta)
    y = orbit_radius * np.sin(orbit_theta)
    ax.plot(x, y, label=planet)

# set the aspect ratio to equal, and add labels
ax.set_aspect("equal", "box")
ax.set_xlabel("Distance (AU)")
ax.set_ylabel("Distance (AU)")
ax.set_title("Solar System")
ax.legend()

plt.grid(True)
plt.show()





import math

# create a figure of size (8, 8) 
fig = plt.figure(figsize=(8, 8))
ax = fig.add_subplot(111, projection="3d")

# plot the sun at the center
ax.scatter(0, 0, color="yellow", s=100, label="Sun")

# plot orbits of planets
for i, planet in enumerate(planets):
    orbital_radius = semi_major_axis[i]
    orbital_theta = np.linspace(0, 2*math.pi, 100)
    x = orbital_radius * np.cos(orbital_theta)
    y = orbital_radius * np.sin(orbital_theta)
    z = np.zeros_like(x)
    ax.plot(x, y, z, label=planet)
    
# set x, y, and z labels
ax.set_xlabel("X (AU)")
ax.set_ylabel("Y (AU)")
ax.set_zlabel("Z (AU)")
ax.legend()

# set title of the graph
ax.set_title("Solar System 3D Visualization")

# initialize the graph legend

plt.show()



