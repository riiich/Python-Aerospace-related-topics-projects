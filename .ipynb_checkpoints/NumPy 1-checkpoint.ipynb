{
 "cells": [
  {
   "cell_type": "markdown",
   "id": "598b7857-088f-4c8b-a575-f3e912b2e5bc",
   "metadata": {},
   "source": [
    "Handling numerical data for trajectory calculations and simulations.\n",
    "\n",
    "1. Create a numpy array to represent time from 0 to 100.\n",
    "2. Create a numpy array to represent altitude in meters during the launch phase. The altitude starts at 0 meters and increases linearly with time by 100 meters per second.\n",
    "3. Calculate the velocity array using the altitude array. Assume constant acceleration (9.81 m/s^2) during the launch phase.\n",
    "4. Calculate the acceleration array using a constant acceleration (9.81 m/s^2).\n",
    "5. Print the shape and data type of each generated numpy array."
   ]
  },
  {
   "cell_type": "code",
   "execution_count": 1,
   "id": "499513f2-b1d2-4e07-9bb8-2b729a05e4f3",
   "metadata": {},
   "outputs": [],
   "source": [
    "gravity_acceleration = 9.81   # constant acceleration due to gravity in m/s^2"
   ]
  },
  {
   "cell_type": "code",
   "execution_count": 1,
   "id": "d726241b-bc58-4bb7-96af-1a9ed731bc73",
   "metadata": {
    "panel-layout": {
     "height": 0,
     "visible": true,
     "width": 100
    }
   },
   "outputs": [
    {
     "name": "stdout",
     "output_type": "stream",
     "text": [
      "[    0.   100.   200.   300.   400.   500.   600.   700.   800.   900.\n",
      "  1000.  1100.  1200.  1300.  1400.  1500.  1600.  1700.  1800.  1900.\n",
      "  2000.  2100.  2200.  2300.  2400.  2500.  2600.  2700.  2800.  2900.\n",
      "  3000.  3100.  3200.  3300.  3400.  3500.  3600.  3700.  3800.  3900.\n",
      "  4000.  4100.  4200.  4300.  4400.  4500.  4600.  4700.  4800.  4900.\n",
      "  5000.  5100.  5200.  5300.  5400.  5500.  5600.  5700.  5800.  5900.\n",
      "  6000.  6100.  6200.  6300.  6400.  6500.  6600.  6700.  6800.  6900.\n",
      "  7000.  7100.  7200.  7300.  7400.  7500.  7600.  7700.  7800.  7900.\n",
      "  8000.  8100.  8200.  8300.  8400.  8500.  8600.  8700.  8800.  8900.\n",
      "  9000.  9100.  9200.  9300.  9400.  9500.  9600.  9700.  9800.  9900.\n",
      " 10000.]\n"
     ]
    }
   ],
   "source": [
    "import numpy as np\n",
    "\n",
    "time = np.arange(0, 101)\n",
    "altitude = np.zeros(time.shape)\n",
    "\n",
    "altitude += time * 100\n",
    "\n"
   ]
  },
  {
   "cell_type": "code",
   "execution_count": null,
   "id": "35547922-4497-4a2b-98c5-71348b86e285",
   "metadata": {},
   "outputs": [],
   "source": []
  }
 ],
 "metadata": {
  "kernelspec": {
   "display_name": "Python 3 (ipykernel)",
   "language": "python",
   "name": "python3"
  },
  "language_info": {
   "codemirror_mode": {
    "name": "ipython",
    "version": 3
   },
   "file_extension": ".py",
   "mimetype": "text/x-python",
   "name": "python",
   "nbconvert_exporter": "python",
   "pygments_lexer": "ipython3",
   "version": "3.12.4"
  },
  "panel-cell-order": [
   "d726241b-bc58-4bb7-96af-1a9ed731bc73"
  ]
 },
 "nbformat": 4,
 "nbformat_minor": 5
}
