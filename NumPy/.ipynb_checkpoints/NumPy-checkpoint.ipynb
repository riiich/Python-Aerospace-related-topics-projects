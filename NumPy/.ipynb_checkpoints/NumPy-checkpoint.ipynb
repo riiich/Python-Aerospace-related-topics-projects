{
 "cells": [
  {
   "cell_type": "markdown",
   "id": "598b7857-088f-4c8b-a575-f3e912b2e5bc",
   "metadata": {},
   "source": [
    "# 1. Handling numerical data for trajectory calculations and simulations.\n",
    "\n",
    "1. Create a numpy array to represent time from 0 to 100.\n",
    "2. Create a numpy array to represent altitude in meters during the launch phase. The altitude starts at 0 meters and increases linearly with time by 100 meters per second.\n",
    "3. Calculate the velocity array using the altitude array. Assume constant acceleration (9.81 m/s^2) during the launch phase.\n",
    "4. Calculate the acceleration array using a constant acceleration value of 9.81 m/s^2.\n",
    "5. Print the shape and data type of each generated numpy array."
   ]
  },
  {
   "cell_type": "code",
   "execution_count": 13,
   "id": "499513f2-b1d2-4e07-9bb8-2b729a05e4f3",
   "metadata": {},
   "outputs": [],
   "source": [
    "gravity_acceleration = 9.81   # constant acceleration due to gravity in m/s^2"
   ]
  },
  {
   "cell_type": "code",
   "execution_count": 25,
   "id": "690fd083-42eb-41d0-9028-5fd415dff119",
   "metadata": {},
   "outputs": [
    {
     "name": "stdout",
     "output_type": "stream",
     "text": [
      "Time\n",
      "------\n",
      "[  0   1   2   3   4   5   6   7   8   9  10  11  12  13  14  15  16  17\n",
      "  18  19  20  21  22  23  24  25  26  27  28  29  30  31  32  33  34  35\n",
      "  36  37  38  39  40  41  42  43  44  45  46  47  48  49  50  51  52  53\n",
      "  54  55  56  57  58  59  60  61  62  63  64  65  66  67  68  69  70  71\n",
      "  72  73  74  75  76  77  78  79  80  81  82  83  84  85  86  87  88  89\n",
      "  90  91  92  93  94  95  96  97  98  99 100]\n"
     ]
    }
   ],
   "source": [
    "import numpy as np\n",
    "\n",
    "time = np.arange(0, 101)\n",
    "\n",
    "print(\"Time\")\n",
    "print(\"------\")\n",
    "print(time)\n",
    "print()"
   ]
  },
  {
   "cell_type": "code",
   "execution_count": 24,
   "id": "c2dcab6d-011e-4fd1-8591-c5fc24cb029d",
   "metadata": {
    "panel-layout": {
     "height": 0,
     "visible": true,
     "width": 100
    }
   },
   "outputs": [
    {
     "name": "stdout",
     "output_type": "stream",
     "text": [
      "Altitude\n",
      "---------\n",
      "[    0.   100.   200.   300.   400.   500.   600.   700.   800.   900.\n",
      "  1000.  1100.  1200.  1300.  1400.  1500.  1600.  1700.  1800.  1900.\n",
      "  2000.  2100.  2200.  2300.  2400.  2500.  2600.  2700.  2800.  2900.\n",
      "  3000.  3100.  3200.  3300.  3400.  3500.  3600.  3700.  3800.  3900.\n",
      "  4000.  4100.  4200.  4300.  4400.  4500.  4600.  4700.  4800.  4900.\n",
      "  5000.  5100.  5200.  5300.  5400.  5500.  5600.  5700.  5800.  5900.\n",
      "  6000.  6100.  6200.  6300.  6400.  6500.  6600.  6700.  6800.  6900.\n",
      "  7000.  7100.  7200.  7300.  7400.  7500.  7600.  7700.  7800.  7900.\n",
      "  8000.  8100.  8200.  8300.  8400.  8500.  8600.  8700.  8800.  8900.\n",
      "  9000.  9100.  9200.  9300.  9400.  9500.  9600.  9700.  9800.  9900.\n",
      " 10000.]\n"
     ]
    }
   ],
   "source": [
    "altitude = np.zeros(time.shape)\n",
    "altitude += time * 100\n",
    "\n",
    "print(\"Altitude\")\n",
    "print(\"---------\")\n",
    "print(altitude)\n",
    "print()"
   ]
  },
  {
   "cell_type": "code",
   "execution_count": 23,
   "id": "7cc5bd66-dc20-4997-bad6-f8ddf351d73a",
   "metadata": {},
   "outputs": [
    {
     "name": "stdout",
     "output_type": "stream",
     "text": [
      "Velocity\n",
      "--------\n",
      "[  0.     9.81  19.62  29.43  39.24  49.05  58.86  68.67  78.48  88.29\n",
      "  98.1  107.91 117.72 127.53 137.34 147.15 156.96 166.77 176.58 186.39\n",
      " 196.2  206.01 215.82 225.63 235.44 245.25 255.06 264.87 274.68 284.49\n",
      " 294.3  304.11 313.92 323.73 333.54 343.35 353.16 362.97 372.78 382.59\n",
      " 392.4  402.21 412.02 421.83 431.64 441.45 451.26 461.07 470.88 480.69\n",
      " 490.5  500.31 510.12 519.93 529.74 539.55 549.36 559.17 568.98 578.79\n",
      " 588.6  598.41 608.22 618.03 627.84 637.65 647.46 657.27 667.08 676.89\n",
      " 686.7  696.51 706.32 716.13 725.94 735.75 745.56 755.37 765.18 774.99\n",
      " 784.8  794.61 804.42 814.23 824.04 833.85 843.66 853.47 863.28 873.09\n",
      " 882.9  892.71 902.52 912.33 922.14 931.95 941.76 951.57 961.38 971.19\n",
      " 981.  ]\n"
     ]
    }
   ],
   "source": [
    "# m/s (m/s^2 * s = m/s; 9.81 m/s^2 * time array (s))\n",
    "velocity = 9.81 * time\n",
    "\n",
    "print(\"Velocity\")\n",
    "print(\"----------\")\n",
    "print(velocity)\n",
    "print()"
   ]
  },
  {
   "cell_type": "code",
   "execution_count": 22,
   "id": "35547922-4497-4a2b-98c5-71348b86e285",
   "metadata": {},
   "outputs": [
    {
     "name": "stdout",
     "output_type": "stream",
     "text": [
      "Acceleration\n",
      "--------------\n",
      "[9.81 9.81 9.81 9.81 9.81 9.81 9.81 9.81 9.81 9.81 9.81 9.81 9.81 9.81\n",
      " 9.81 9.81 9.81 9.81 9.81 9.81 9.81 9.81 9.81 9.81 9.81 9.81 9.81 9.81\n",
      " 9.81 9.81 9.81 9.81 9.81 9.81 9.81 9.81 9.81 9.81 9.81 9.81 9.81 9.81\n",
      " 9.81 9.81 9.81 9.81 9.81 9.81 9.81 9.81 9.81 9.81 9.81 9.81 9.81 9.81\n",
      " 9.81 9.81 9.81 9.81 9.81 9.81 9.81 9.81 9.81 9.81 9.81 9.81 9.81 9.81\n",
      " 9.81 9.81 9.81 9.81 9.81 9.81 9.81 9.81 9.81 9.81 9.81 9.81 9.81 9.81\n",
      " 9.81 9.81 9.81 9.81 9.81 9.81 9.81 9.81 9.81 9.81 9.81 9.81 9.81 9.81\n",
      " 9.81 9.81 9.81]\n"
     ]
    }
   ],
   "source": [
    "acceleration = np.full(time.shape, gravity_acceleration)\n",
    "\n",
    "print(\"Acceleration\")\n",
    "print(\"--------------\")\n",
    "print(acceleration)\n",
    "print()"
   ]
  },
  {
   "cell_type": "code",
   "execution_count": 29,
   "id": "ca286676-947c-460a-9805-cd820a490e95",
   "metadata": {},
   "outputs": [
    {
     "name": "stdout",
     "output_type": "stream",
     "text": [
      "Shape of time array:  (101,)\n",
      "Data type of time array:  int32\n",
      "\n",
      "Shape of altitude array:  (101,)\n",
      "Data type of altitude array:  float64\n",
      "\n",
      "Shape of velocity array:  (101,)\n",
      "Data type of velocity array:  float64\n",
      "\n",
      "Shape of acceleration array:  (101,)\n",
      "Data type of acceleration array:  float64\n",
      "\n"
     ]
    }
   ],
   "source": [
    "print(\"Shape of time array: \", time.shape)\n",
    "print(\"Data type of time array: \", time.dtype)\n",
    "print()\n",
    "\n",
    "print(\"Shape of altitude array: \", altitude.shape)\n",
    "print(\"Data type of altitude array: \", altitude.dtype)\n",
    "print()\n",
    "\n",
    "print(\"Shape of velocity array: \", velocity.shape)\n",
    "print(\"Data type of velocity array: \", velocity.dtype)\n",
    "print()\n",
    "\n",
    "print(\"Shape of acceleration array: \", acceleration.shape)\n",
    "print(\"Data type of acceleration array: \", acceleration.dtype)\n",
    "print()"
   ]
  },
  {
   "cell_type": "markdown",
   "id": "71afada6-1b20-41b0-a0bf-22089f406f0e",
   "metadata": {},
   "source": [
    "# Random Number Generation\n",
    "\n",
    "Some random methods to remember:\n",
    "<br>\n",
    "- <code>random.rand()</code> : returns a random float between 0 and 1 \n",
    "<br>\n",
    "- <code>random.randn()</code> : returns a sample from the \"standard normal\" distribution (mean = 0, standard deviation = 1)\n",
    "<br>\n",
    "- <code>random.randint()</code> : returns random integers from low(inclusive) to high(exclusive)"
   ]
  },
  {
   "cell_type": "code",
   "execution_count": 49,
   "id": "5a9a986d-f1a2-4a13-9784-470294940978",
   "metadata": {},
   "outputs": [
    {
     "name": "stdout",
     "output_type": "stream",
     "text": [
      "1D array of random numbers between 0 and 1: \n",
      "[0.97809248 0.56365746 0.14805155 0.39887475 0.90114728]\n",
      "\n",
      "2D array of 2 rows and 3 columns of random numbers between 0 and 1: \n",
      "[[0.36207764 0.70128812 0.89581723]\n",
      " [0.85348533 0.45752205 0.89215991]]\n"
     ]
    }
   ],
   "source": [
    "# generates a 1D array of 5 random numbers between 0 and 1\n",
    "rand_arr_1d = np.random.rand(5)\n",
    "print(\"1D array of random numbers between 0 and 1: \")\n",
    "print(rand_arr_1d)\n",
    "print()\n",
    "\n",
    "# generates a 2D array of 2 rows and 3 columns of  random numbers between 0 and 1\n",
    "rand_arr_2d = np.random.rand(2, 3)\n",
    "print(\"2D array of 2 rows and 3 columns of random numbers between 0 and 1: \")\n",
    "print(rand_arr_2d)\n",
    "print()"
   ]
  },
  {
   "cell_type": "code",
   "execution_count": 50,
   "id": "373a911e-fe23-4f8f-b2b5-d8ea9f639edd",
   "metadata": {},
   "outputs": [
    {
     "name": "stdout",
     "output_type": "stream",
     "text": [
      "1D array of 5 random numbers from a standard normal distribution: \n",
      "[-0.71750879  0.75723174  0.22174     0.88718209  1.04401801]\n",
      "\n",
      "2D array with 2 rows and 3 columns of random numbers from a standard normal distribution: \n",
      "[[-1.9221408   1.7976953   1.4126565 ]\n",
      " [ 0.38844861 -1.97097048 -0.1313334 ]]\n"
     ]
    }
   ],
   "source": [
    "randn_arr_1d = np.random.randn(5)\n",
    "print(\"1D array of 5 random numbers from a standard normal distribution: \")\n",
    "print(randn_arr_1d)\n",
    "print()\n",
    "\n",
    "randn_arr_2d = np.random.randn(2, 3)\n",
    "print(\"2D array with 2 rows and 3 columns of random numbers from a standard normal distribution: \")\n",
    "print(randn_arr_2d)\n",
    "print()"
   ]
  },
  {
   "cell_type": "code",
   "execution_count": 51,
   "id": "0a7a001d-7326-48fd-9bc7-ba9eb6942787",
   "metadata": {},
   "outputs": [
    {
     "name": "stdout",
     "output_type": "stream",
     "text": [
      "1D array of 5 random numbers from 0 to 9: \n",
      "[6 9 4 9 3]\n",
      "\n",
      "2D array of 2 rows and 3 columns of random numbers from 0 to 99: \n",
      "[[50 34 96]\n",
      " [48 70 75]]\n"
     ]
    }
   ],
   "source": [
    "randint_arr_1d = np.random.randint(0, 10, size=5)\n",
    "print(\"1D array of 5 random numbers from 0 to 9: \")\n",
    "print(randint_arr_1d)\n",
    "print()\n",
    "\n",
    "randint_arr_2d = np.random.randint(0, 100, size=(2,3))\n",
    "print(\"2D array of 2 rows and 3 columns of random numbers from 0 to 99: \")\n",
    "print(randint_arr_2d)"
   ]
  },
  {
   "cell_type": "markdown",
   "id": "1a8dc3e1-cf96-47fc-a7d7-9c5e0125e1a7",
   "metadata": {},
   "source": [
    "# Array Comparisons and Boolean Operations\n",
    "\n",
    "np.where(condition, [x, y])\n",
    "- np.where() : return elements from x or y depending on condition"
   ]
  },
  {
   "cell_type": "code",
   "execution_count": 59,
   "id": "f8add0cd-6e86-4f53-83bd-cf6de20c1abe",
   "metadata": {},
   "outputs": [
    {
     "name": "stdout",
     "output_type": "stream",
     "text": [
      "Indices where the elements are greater than 2:  (array([2, 3, 4], dtype=int64),)\n",
      "\n"
     ]
    }
   ],
   "source": [
    "arr = np.array([1, 2, 3, 4, 5])\n",
    "\n",
    "# find indices where the element is greater than 2\n",
    "indices = np.where(arr > 2)\n",
    "print(\"Indices where the elements are greater than 2: \", indices)\n",
    "print()"
   ]
  },
  {
   "cell_type": "markdown",
   "id": "cdb9ec78-ad7e-4cab-9aaf-864f4d95ec94",
   "metadata": {},
   "source": [
    "- <code>ndarray.any()</code> : returns True if ANY element in the array evaluates to True, otherwise False\n",
    "- <code>ndarray.all()</code> : returns True if ALL elements in the array evaluate to True, otherwise False"
   ]
  },
  {
   "cell_type": "code",
   "execution_count": 57,
   "id": "63a58b94-ea4e-4c2f-9525-97ecc03a8578",
   "metadata": {},
   "outputs": [
    {
     "name": "stdout",
     "output_type": "stream",
     "text": [
      "Any values that are True:  True\n",
      "\n",
      "All values that are True:  False\n",
      "\n"
     ]
    }
   ],
   "source": [
    "arr = np.array([False, True, False, True])\n",
    "\n",
    "any_true = arr.any()\n",
    "print(\"Any values that are True: \", any_true)\n",
    "print()\n",
    "\n",
    "all_true = arr.all()\n",
    "print(\"All values that are True: \", all_true)\n",
    "print()"
   ]
  },
  {
   "cell_type": "markdown",
   "id": "3089c59c-00b5-433e-8f4e-16d1255b793e",
   "metadata": {},
   "source": [
    "- <code>np.logical_and()</code> : performs element-wise logical AND operation between two arrays\n",
    "- <code>np.logical_or()</code> : performs element-wise logical OR operation between two arrays\n",
    "- <code>np.logical_not()</code> : performs element-wise logical NOT operation on an array"
   ]
  },
  {
   "cell_type": "code",
   "execution_count": 66,
   "id": "135ba8a5-2f48-480c-a268-d1d9f0433f60",
   "metadata": {},
   "outputs": [
    {
     "name": "stdout",
     "output_type": "stream",
     "text": [
      "Element-wise logical AND:  [ True False False False]\n",
      "\n",
      "Element-wise logical OR:  [ True  True  True False]\n",
      "\n",
      "Element-wise logical NOT:  [False False  True  True]\n",
      "\n"
     ]
    }
   ],
   "source": [
    "arr1 = np.array([True, True, False, False])\n",
    "arr2 = np.array([True, False, True, False])\n",
    "\n",
    "# logical AND\n",
    "result_and = np.logical_and(arr1, arr2)\n",
    "print(\"Element-wise logical AND: \", result_and)\n",
    "print()\n",
    "\n",
    "# logical OR\n",
    "result_or = np.logical_or(arr1, arr2)\n",
    "print(\"Element-wise logical OR: \", result_or)\n",
    "print()\n",
    "\n",
    "# logical NOT\n",
    "result_not = np.logical_not(arr1)\n",
    "print(\"Element-wise logical NOT: \", result_not)\n",
    "print()"
   ]
  },
  {
   "cell_type": "markdown",
   "id": "3c7226ae-5eff-4d78-91bc-e4782ba1c4c5",
   "metadata": {},
   "source": [
    "# Array Manipulation\n",
    "\n",
    "<h2>Indexing</h2>\n",
    "\n",
    "- Access individual elements using square brackets <code>[]</code>"
   ]
  },
  {
   "cell_type": "code",
   "execution_count": 68,
   "id": "6aa3f198-beff-4685-87a1-1700bd7582a6",
   "metadata": {},
   "outputs": [
    {
     "name": "stdout",
     "output_type": "stream",
     "text": [
      "Element at index 0:  1\n",
      "Element at index 3:  4\n",
      "Element at index -1:  5\n",
      "\n"
     ]
    }
   ],
   "source": [
    "arr = np.array([1,2,3,4,5])\n",
    "\n",
    "print(\"Element at index 0: \", arr[0])\n",
    "print(\"Element at index 3: \", arr[3])\n",
    "print(\"Element at index -1: \", arr[-1])\n",
    "print()"
   ]
  },
  {
   "cell_type": "markdown",
   "id": "f22e7ce6-64c9-4f4b-8121-65b6908a3e63",
   "metadata": {},
   "source": [
    "<h2>Slicing</h2>\n",
    "\n",
    "- Array slicing in NumPy allows you to extract subarrays from NumPy arrays using colon <code>:</code> notation"
   ]
  },
  {
   "cell_type": "code",
   "execution_count": 73,
   "id": "dff4d0b6-a7d1-4c3f-9296-4f2e53d24871",
   "metadata": {},
   "outputs": [
    {
     "name": "stdout",
     "output_type": "stream",
     "text": [
      "First 3 elements:  [1 2 3]\n",
      "Elements from index 3 to 6:  [4 5 6 7]\n",
      "Even-indexed elements:  [1 3 5 7 9]\n",
      "Reverse the array:  [10  9  8  7  6  5  4  3  2  1]\n"
     ]
    }
   ],
   "source": [
    "arr = np.array([1,2,3,4,5,6,7,8,9,10])\n",
    "\n",
    "print(\"First 3 elements: \", arr[:3])\n",
    "print(\"Elements from index 3 to 6: \", arr[3:7])\n",
    "print(\"Even-indexed elements: \", arr[::2])\n",
    "print(\"Reverse the array: \", arr[::-1])"
   ]
  },
  {
   "cell_type": "markdown",
   "id": "1be49334-e631-4e36-a868-cbcc8e96219a",
   "metadata": {},
   "source": [
    "<h2>Appending and Concatenating Arrays</h2>"
   ]
  },
  {
   "cell_type": "markdown",
   "id": "45269af2-a166-4a71-8dcb-1c750d9e8e67",
   "metadata": {},
   "source": [
    "arr1 = np.array([1,2,3])\n",
    "arr2 = np.array([4,5,6])\n",
    "\n",
    "print(\"Array 1: \", arr1)\n",
    "print(\"Array 2: \", arr2)\n",
    "print()\n",
    "\n",
    "# append arr2 to arr1\n",
    "appended_arr = np.append(arr1, arr2)\n",
    "print(\"Appended array: \", appended_arr)\n",
    "\n",
    "# concatenate arrays along axis 0 (along rows)\n",
    "concatenated_arr = np.concatenate((arr1, arr2))\n",
    "print(\"Concatenated array along axis 0: \", concatenated_arr)\n",
    "print()"
   ]
  },
  {
   "cell_type": "markdown",
   "id": "e74d9c6d-64fb-420e-b1e1-0f14cc24f9c6",
   "metadata": {},
   "source": [
    "<h2>Flattening Arrays</h2>"
   ]
  },
  {
   "cell_type": "code",
   "execution_count": 80,
   "id": "64aee605-d301-4d3a-a044-5ea6eb734381",
   "metadata": {},
   "outputs": [
    {
     "name": "stdout",
     "output_type": "stream",
     "text": [
      "Arrays in arr: \n",
      "[[1 2 3]\n",
      " [4 5 6]]\n",
      "Flattened array:  [1 2 3 4 5 6]\n"
     ]
    }
   ],
   "source": [
    "arr = np.array([[1,2,3], [4,5,6]])\n",
    "flattened_arr = arr.flatten()\n",
    "\n",
    "print(\"Arrays in arr: \")\n",
    "print(arr)\n",
    "print(\"Flattened array: \", flattened_arr)"
   ]
  },
  {
   "cell_type": "markdown",
   "id": "7c44d4ad-a2c1-420a-b04e-73c5fde79d00",
   "metadata": {},
   "source": [
    "# 2. Mission Profiling\n",
    "\n",
    "<h2>Objectives: </h2>\n",
    "1. Generate simulated altitude, velocity, and acceleration data by using random number generation with NumPy.\n",
    "<br>\n",
    "2. Assume that the flight data consists of 1000 data points for altitude, velocity, and acceleration.\n",
    "<br>\n",
    "3. Perform array indexing and slicing to extract subsets of data for analysis.\n",
    "<br>\n",
    "4. Use array comparisons and conditional methods to identify critical points:\n",
    "\n",
    " - Critical altitude: Altitude above 5000 meters.\n",
    " - Critical velocity: Velocity greater than 300 meters per second.\n",
    " - Critical acceleration: Acceleration less than -9.8 meters per second squared (indicating deceleration).\n",
    "   \n",
    "<br>\n",
    "5. Concatenate arrays representing critical points to an array and print it out!"
   ]
  },
  {
   "cell_type": "code",
   "execution_count": 87,
   "id": "dbd8147e-74b3-4d04-9a54-77a8853d6454",
   "metadata": {},
   "outputs": [
    {
     "name": "stdout",
     "output_type": "stream",
     "text": [
      "Flight Profile\n",
      "[6557.38147656 5185.42794182 8941.6488122  ...  -11.56020536  -15.27514062\n",
      "  -14.0175371 ]\n"
     ]
    }
   ],
   "source": [
    "import numpy as np\n",
    "\n",
    "altitude = np.random.uniform(0, 10000, size=1000)\n",
    "velocity = np.random.uniform(0, 400, size=1000)\n",
    "acceleration = np.random.uniform(-20, 20, size=1000)\n",
    "\n",
    "critical_altitude = altitude[altitude > 5000]\n",
    "critical_velocity = velocity[velocity > 300]\n",
    "critical_acceleration = acceleration[acceleration < -9.8]\n",
    "\n",
    "flight_profile = np.concatenate((critical_altitude, critical_velocity, critical_acceleration))\n",
    "\n",
    "print(\"Flight Profile\")\n",
    "print(flight_profile)"
   ]
  }
 ],
 "metadata": {
  "kernelspec": {
   "display_name": "Python 3 (ipykernel)",
   "language": "python",
   "name": "python3"
  },
  "language_info": {
   "codemirror_mode": {
    "name": "ipython",
    "version": 3
   },
   "file_extension": ".py",
   "mimetype": "text/x-python",
   "name": "python",
   "nbconvert_exporter": "python",
   "pygments_lexer": "ipython3",
   "version": "3.12.4"
  },
  "panel-cell-order": [
   "d726241b-bc58-4bb7-96af-1a9ed731bc73"
  ]
 },
 "nbformat": 4,
 "nbformat_minor": 5
}
