


gravity_acceleration = 9.81   # constant acceleration due to gravity in m/s^2


import numpy as np

time = np.arange(0, 101)
altitude = np.zeros(time.shape)

altitude += time * 100





