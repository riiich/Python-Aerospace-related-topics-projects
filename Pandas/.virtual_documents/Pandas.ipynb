


import pandas as pd





import numpy as np 

data = np.array([10,20,30,40,50])
series = pd.Series(data)
print("Series from NumPy array")
print(series)
print()





# attributes
print("Index: ", series.index)
print("Values: ", series.values)

# methods
print("Sum of values: ", series.sum())
print("Maximum value: ", series.max())
print("Minimum value: ", series.min())
print()





# Creating a DataFrame from a dictionary
data = {
        "Name": ["John", "Emma", "Peter"],
        "Age": [30, 25, 35],
        "City": ["New York", "London", "Paris"]
       }

df = pd.DataFrame(data)

print("DataFrame created from dictionary: ")
print(df)
print()





# Accessing columns
print("Accessing columns: ")  
print("---------------------")
print(df["Name"])  # accessing a single column
print()
print(df[["Name", "Age"]])  # accessing multiple columns
print()

# Accessing rows
print("Accessing rows:")
print("---------------------")
print(df.loc[1])  # accessing a single row by label
print()
print(df.iloc[0])  # accessing a single row by index
print()

# Accessing elements
print("Accessing elements: ")
print("---------------------")
print(df.at[0, "Age"])  # accessing a single element by label
print()
print(df.iat[1, 2])  # accessing a single element by index
print()





# adding a new column
df["Gender"] = ["Male", "Female", "Male"]
print("DataFrame after adding a new column: ")
print(df)
print()

# filtering rows based on a condition
filtered_df = df[df["Age"] > 25]
print("Filtered DataFrame:")
print(filtered_df)
print()

# applying a function to a column
df["Age"] = df["Age"].apply(lambda x: x + 1)
print("DataFrame after applying function to 'Age' column: ")
print(df)
print()





planet_distances = {
    "Mercury": 57.9,
    "Venus": 108.2,
    "Earth": 149.6,
    "Mars": 227.9,
    "Jupiter": 778.6,
    "Saturn": 1433.5,
    "Uranus": 2872.5,
    "Neptune": 4495.1,
    "Pluto": 5906.4,
}

moon_data = {
    "Planet": ["Jupiter", "Jupiter", "Saturn", "Saturn", "Uranus", "Neptune"],
    "Moon": ["Io", "Ganymede", "Titan", "Rhea", "Titania", "Triton"],
    "Diameter (km)": [3642, 5262, 5150, 1528, 1578, 2707],
    "Orbital Period (days)": [1.77, 7.15, 15.95, 4.52, 8.71, 5.88]
}


import pandas as pd

distances_series = pd.Series(planet_distances)
moon_characteristics_df = pd.DataFrame(moon_data)
print(moon_characteristics_df)


# analyze the data
print("Average distance of planets from the Sun: ")
print(distances_series.mean())
print()

outer_planets = ["Jupiter", "Saturn", "Uranus", "Neptune"]
print("Outer planets: ", outer_planets)
print()

print("Number of moons for each outer planet: ")

for planet in outer_planets:
    num_moons = moon_characteristics_df[moon_characteristics_df["Planet"] == planet].shape[0]
    print(f"{planet}: {num_moons}")
print()

print("Largest moon of each outer planet: ")

for planet in outer_planets:
    largest_moon = moon_characteristics_df[moon_characteristics_df["Planet"] == planet].sort_values(by="Diameter (km)", ascending=False).iloc[0]
    print(f"{planet}: {largest_moon["Moon"]} ({largest_moon["Diameter (km)"]} km)")





spacex_missions_csv = "https://raw.githubusercontent.com/BriantOliveira/SpaceX-Dataset/master/dataset/SpaceX-Missions.csv"
df = pd.read_csv(spacex_missions_csv)





# display the first few rows of the DataFrame
print(df.head())
print()

# check basic information about the DataFrame
print(df.info())
print()

# summary statistics of numerical columns
print(df.describe())
print()





mean_payload_mass = df["Payload Mass (kg)"].mean()
print("Payload mass mean: ", mean_payload_mass)

median_payload_mass = df["Payload Mass (kg)"].median()
print("Payload mass median: ", median_payload_mass)

sum_payload_mass = df["Payload Mass (kg)"].sum()
print("Payload mass sum: ", sum_payload_mass)

std_payload_mass = df["Payload Mass (kg)"].std()
print("Payload mass std: ", std_payload_mass)

var_payload_mass = df["Payload Mass (kg)"].var()
print("Payload mass var: ", var_payload_mass)





# print all unique launch sites in the dataset
print("Unique launch sites:")
print(pd.unique(df["Launch Site"]))
print()

# describe the statistical values of all the numerical columns within the dataset
df.describe(include=[np.number])





# select specific columns
selected_columns = df[["Payload Name", "Payload Orbit"]]
print(selected_columns)
print()

# filter rows based on condition (if payload mass exceeds 3000)
filtered_payloads = df[df["Payload Mass (kg)"] > 3000]
print(filtered_payloads)





# grouping payload by launch site
launch_groups = df.groupby("Launch Site")

# obtaining the mean value for each group
launch_groups["Payload Mass (kg)"].mean()





import pandas as pd

spacex_missions_csv = "https://raw.githubusercontent.com/BriantOliveira/SpaceX-Dataset/master/dataset/SpaceX-Missions.csv"
launches_dataset = pd.read_csv(spacex_missions_csv)


launches_dataset.head()


print("Customer Country: ")
launches_dataset["Customer Country"]


print("Unique customer countries: ")
pd.unique(launches_dataset["Customer Country"])


launches_by_country = launches_dataset.groupby("Customer Country")
launches_by_country.head()


under_4000 = launches_dataset[launches_dataset["Payload Mass (kg)"] < 4000]
print("Launches where Payload Mass (kg) is less than 4000 kg: ")
print(under_4000)



