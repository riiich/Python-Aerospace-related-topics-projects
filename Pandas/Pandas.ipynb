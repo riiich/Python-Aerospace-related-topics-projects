{
 "cells": [
  {
   "cell_type": "markdown",
   "id": "38b00d24-6763-43ee-a105-731db9ae5374",
   "metadata": {},
   "source": [
    "# Pandas Library\n",
    "\n",
    "<h2>Pandas Explained</h2>\n",
    "\n",
    "Pandas is a Python library that is used for data manipulation and analysis. It provides data structures and functions that simplify working with structured data, such as tables or spreadsheets."
   ]
  },
  {
   "cell_type": "code",
   "execution_count": 1,
   "id": "d7de8ee4-37e5-4e00-a8a7-517ba0e39780",
   "metadata": {},
   "outputs": [],
   "source": [
    "import pandas as pd"
   ]
  },
  {
   "cell_type": "markdown",
   "id": "15648c76-4474-4f3d-ac54-89347a0f69bc",
   "metadata": {},
   "source": [
    "<h2>Pandas Series</h2>\n",
    "\n",
    "Series is a one-dimensional labeled array capable of holding any data type (e.g., integers, floats, strings, etc.). It's similar to a column in a spreadsheet or a single list in Python."
   ]
  },
  {
   "cell_type": "code",
   "execution_count": 3,
   "id": "28fa9c1c-f39c-451a-891e-0b013bf1aea5",
   "metadata": {},
   "outputs": [
    {
     "name": "stdout",
     "output_type": "stream",
     "text": [
      "Series from NumPy array\n",
      "0    10\n",
      "1    20\n",
      "2    30\n",
      "3    40\n",
      "4    50\n",
      "dtype: int32\n",
      "\n"
     ]
    }
   ],
   "source": [
    "import numpy as np \n",
    "\n",
    "data = np.array([10,20,30,40,50])\n",
    "series = pd.Series(data)\n",
    "print(\"Series from NumPy array\")\n",
    "print(series)\n",
    "print()"
   ]
  },
  {
   "cell_type": "markdown",
   "id": "fa44cbe7-e4a5-44e4-b2bd-b2c69b895393",
   "metadata": {},
   "source": [
    "You can access pertinent attributes and methods as well for series:"
   ]
  },
  {
   "cell_type": "code",
   "execution_count": 8,
   "id": "b8fdc1c3-273e-4727-8597-c0fbebce78f5",
   "metadata": {},
   "outputs": [
    {
     "name": "stdout",
     "output_type": "stream",
     "text": [
      "Index:  RangeIndex(start=0, stop=5, step=1)\n",
      "Values:  [10 20 30 40 50]\n",
      "Sum of values:  150\n",
      "Maximum value:  50\n",
      "Minimum value:  10\n",
      "\n"
     ]
    }
   ],
   "source": [
    "# attributes\n",
    "print(\"Index: \", series.index)\n",
    "print(\"Values: \", series.values)\n",
    "\n",
    "# methods\n",
    "print(\"Sum of values: \", series.sum())\n",
    "print(\"Maximum value: \", series.max())\n",
    "print(\"Minimum value: \", series.min())\n",
    "print()"
   ]
  },
  {
   "cell_type": "markdown",
   "id": "c2d749ae-740d-4150-addc-0ea5fa843b5b",
   "metadata": {},
   "source": [
    "<h2>Pandas DataFrames</h2>\n",
    "\n",
    "A Pandas DataFrame is a two-dimensional labeled data structure with rows and columns, similar to a spreadsheet."
   ]
  },
  {
   "cell_type": "code",
   "execution_count": 10,
   "id": "b571cac7-c10d-4e9b-9cbe-35f736de588a",
   "metadata": {},
   "outputs": [
    {
     "name": "stdout",
     "output_type": "stream",
     "text": [
      "DataFrame created from dictionary: \n",
      "    Name  Age      City\n",
      "0   John   30  New York\n",
      "1   Emma   25    London\n",
      "2  Peter   35     Paris\n",
      "\n"
     ]
    }
   ],
   "source": [
    "# Creating a DataFrame from a dictionary\n",
    "data = {\n",
    "        \"Name\": [\"John\", \"Emma\", \"Peter\"],\n",
    "        \"Age\": [30, 25, 35],\n",
    "        \"City\": [\"New York\", \"London\", \"Paris\"]\n",
    "       }\n",
    "\n",
    "df = pd.DataFrame(data)\n",
    "\n",
    "print(\"DataFrame created from dictionary: \")\n",
    "print(df)\n",
    "print()"
   ]
  },
  {
   "cell_type": "markdown",
   "id": "de5cf0f2-276f-49fa-bddd-f9d18efa776b",
   "metadata": {},
   "source": [
    "You can access rows, columns, or individual elements using indexing, slicing, or label-based methods."
   ]
  },
  {
   "cell_type": "code",
   "execution_count": 16,
   "id": "eb16e661-918f-4685-8606-62ad3c593b16",
   "metadata": {},
   "outputs": [
    {
     "name": "stdout",
     "output_type": "stream",
     "text": [
      "Accessing columns: \n",
      "---------------------\n",
      "0     John\n",
      "1     Emma\n",
      "2    Peter\n",
      "Name: Name, dtype: object\n",
      "\n",
      "    Name  Age\n",
      "0   John   30\n",
      "1   Emma   25\n",
      "2  Peter   35\n",
      "\n",
      "Accessing rows:\n",
      "---------------------\n",
      "Name      Emma\n",
      "Age         25\n",
      "City    London\n",
      "Name: 1, dtype: object\n",
      "\n",
      "Name        John\n",
      "Age           30\n",
      "City    New York\n",
      "Name: 0, dtype: object\n",
      "\n",
      "Accessing elements: \n",
      "---------------------\n",
      "30\n",
      "\n",
      "London\n",
      "\n"
     ]
    }
   ],
   "source": [
    "# Accessing columns\n",
    "print(\"Accessing columns: \")  \n",
    "print(\"---------------------\")\n",
    "print(df[\"Name\"])  # accessing a single column\n",
    "print()\n",
    "print(df[[\"Name\", \"Age\"]])  # accessing multiple columns\n",
    "print()\n",
    "\n",
    "# Accessing rows\n",
    "print(\"Accessing rows:\")\n",
    "print(\"---------------------\")\n",
    "print(df.loc[1])  # accessing a single row by label\n",
    "print()\n",
    "print(df.iloc[0])  # accessing a single row by index\n",
    "print()\n",
    "\n",
    "# Accessing elements\n",
    "print(\"Accessing elements: \")\n",
    "print(\"---------------------\")\n",
    "print(df.at[0, \"Age\"])  # accessing a single element by label\n",
    "print()\n",
    "print(df.iat[1, 2])  # accessing a single element by index\n",
    "print()"
   ]
  },
  {
   "cell_type": "markdown",
   "id": "7b9af80b-eb87-4233-a1f7-3093480fc0ad",
   "metadata": {},
   "source": [
    "You can perform various manipulations on DataFrames, such as adding or removing columns, filtering rows, and applying functions."
   ]
  },
  {
   "cell_type": "code",
   "execution_count": 21,
   "id": "4a884c49-3c12-4aad-bb65-8678d856247f",
   "metadata": {},
   "outputs": [
    {
     "name": "stdout",
     "output_type": "stream",
     "text": [
      "DataFrame after adding a new column: \n",
      "    Name  Age      City  Gender\n",
      "0   John   33  New York    Male\n",
      "1   Emma   28    London  Female\n",
      "2  Peter   38     Paris    Male\n",
      "\n",
      "Filtered DataFrame:\n",
      "    Name  Age      City  Gender\n",
      "0   John   33  New York    Male\n",
      "1   Emma   28    London  Female\n",
      "2  Peter   38     Paris    Male\n",
      "\n",
      "DataFrame after applying function to 'Age' column: \n",
      "    Name  Age      City  Gender\n",
      "0   John   34  New York    Male\n",
      "1   Emma   29    London  Female\n",
      "2  Peter   39     Paris    Male\n",
      "\n"
     ]
    }
   ],
   "source": [
    "# adding a new column\n",
    "df[\"Gender\"] = [\"Male\", \"Female\", \"Male\"]\n",
    "print(\"DataFrame after adding a new column: \")\n",
    "print(df)\n",
    "print()\n",
    "\n",
    "# filtering rows based on a condition\n",
    "filtered_df = df[df[\"Age\"] > 25]\n",
    "print(\"Filtered DataFrame:\")\n",
    "print(filtered_df)\n",
    "print()\n",
    "\n",
    "# applying a function to a column\n",
    "df[\"Age\"] = df[\"Age\"].apply(lambda x: x + 1)\n",
    "print(\"DataFrame after applying function to 'Age' column: \")\n",
    "print(df)\n",
    "print()"
   ]
  },
  {
   "cell_type": "markdown",
   "id": "4b34ab71-a3d2-4520-8ea7-a011a20d387d",
   "metadata": {},
   "source": [
    "# 1. Planetary Analysis with Pandas\n",
    "\n",
    "Imagine that you are a part of a team on analyzing planetary Earth data. Your task is to process and analyze the data using Pandas to extract insights.\n",
    "\n",
    "<h2>Objectives:</h2>\n",
    "\n",
    "- Create a Pandas Series representing distances of planets from the Sun (in million kilometers)\n",
    "- Create a Pandas DataFrame representing characteristics of moons of the outer planets\n",
    "- Analyze the data to find key information about planetary distances and moon characteristics"
   ]
  },
  {
   "cell_type": "code",
   "execution_count": 25,
   "id": "d1b76a56-e061-452a-91cf-1294571f5cb4",
   "metadata": {},
   "outputs": [],
   "source": [
    "planet_distances = {\n",
    "    \"Mercury\": 57.9,\n",
    "    \"Venus\": 108.2,\n",
    "    \"Earth\": 149.6,\n",
    "    \"Mars\": 227.9,\n",
    "    \"Jupiter\": 778.6,\n",
    "    \"Saturn\": 1433.5,\n",
    "    \"Uranus\": 2872.5,\n",
    "    \"Neptune\": 4495.1,\n",
    "    \"Pluto\": 5906.4,\n",
    "}\n",
    "\n",
    "moon_data = {\n",
    "    \"Planet\": [\"Jupiter\", \"Jupiter\", \"Saturn\", \"Saturn\", \"Uranus\", \"Neptune\"],\n",
    "    \"Moon\": [\"Io\", \"Ganymede\", \"Titan\", \"Rhea\", \"Titania\", \"Triton\"],\n",
    "    \"Diameter (km)\": [3642, 5262, 5150, 1528, 1578, 2707],\n",
    "    \"Orbital Period (days)\": [1.77, 7.15, 15.95, 4.52, 8.71, 5.88]\n",
    "}"
   ]
  },
  {
   "cell_type": "code",
   "execution_count": 37,
   "id": "c2388a64-469a-4dcb-b037-a23c12374827",
   "metadata": {},
   "outputs": [
    {
     "name": "stdout",
     "output_type": "stream",
     "text": [
      "    Planet      Moon  Diameter (km)  Orbital Period (days)\n",
      "0  Jupiter        Io           3642                   1.77\n",
      "1  Jupiter  Ganymede           5262                   7.15\n",
      "2   Saturn     Titan           5150                  15.95\n",
      "3   Saturn      Rhea           1528                   4.52\n",
      "4   Uranus   Titania           1578                   8.71\n",
      "5  Neptune    Triton           2707                   5.88\n"
     ]
    }
   ],
   "source": [
    "import pandas as pd\n",
    "\n",
    "distances_series = pd.Series(planet_distances)\n",
    "moon_characteristics_df = pd.DataFrame(moon_data)\n",
    "print(moon_characteristics_df)"
   ]
  },
  {
   "cell_type": "code",
   "execution_count": 62,
   "id": "f7efbe94-ad89-4c37-b218-973f8cd078bc",
   "metadata": {},
   "outputs": [
    {
     "name": "stdout",
     "output_type": "stream",
     "text": [
      "Average distance of planets from the Sun: \n",
      "1781.0777777777778\n",
      "\n",
      "Outer planets:  ['Jupiter', 'Saturn', 'Uranus', 'Neptune']\n",
      "\n",
      "Number of moons for each outer planet: \n",
      "Jupiter: 2\n",
      "Saturn: 2\n",
      "Uranus: 1\n",
      "Neptune: 1\n",
      "\n",
      "Largest moon of each outer planet: \n",
      "Jupiter: Ganymede (5262 km)\n",
      "Saturn: Titan (5150 km)\n",
      "Uranus: Titania (1578 km)\n",
      "Neptune: Triton (2707 km)\n"
     ]
    }
   ],
   "source": [
    "# analyze the data\n",
    "print(\"Average distance of planets from the Sun: \")\n",
    "print(distances_series.mean())\n",
    "print()\n",
    "\n",
    "outer_planets = [\"Jupiter\", \"Saturn\", \"Uranus\", \"Neptune\"]\n",
    "print(\"Outer planets: \", outer_planets)\n",
    "print()\n",
    "\n",
    "print(\"Number of moons for each outer planet: \")\n",
    "\n",
    "for planet in outer_planets:\n",
    "    num_moons = moon_characteristics_df[moon_characteristics_df[\"Planet\"] == planet].shape[0]\n",
    "    print(f\"{planet}: {num_moons}\")\n",
    "print()\n",
    "\n",
    "print(\"Largest moon of each outer planet: \")\n",
    "\n",
    "for planet in outer_planets:\n",
    "    largest_moon = moon_characteristics_df[moon_characteristics_df[\"Planet\"] == planet].sort_values(by=\"Diameter (km)\", ascending=False).iloc[0]\n",
    "    print(f\"{planet}: {largest_moon[\"Moon\"]} ({largest_moon[\"Diameter (km)\"]} km)\")"
   ]
  },
  {
   "cell_type": "markdown",
   "id": "32cbf65c-2845-46c2-9d2e-70c9fbe3d44a",
   "metadata": {},
   "source": [
    "# Working with Real Life Data\n",
    "\n",
    "Pandas allows us to work with a wide range of file formats from external sources. The code below allows us to import data via CSV and display information about it.\n",
    "\n",
    "The below downloads a CSV file of the most recent SpaceX Missions via a URL."
   ]
  },
  {
   "cell_type": "code",
   "execution_count": 69,
   "id": "e2a1b67f-e471-48e5-85c4-18ca4d038ad8",
   "metadata": {},
   "outputs": [],
   "source": [
    "spacex_missions_csv = \"https://raw.githubusercontent.com/BriantOliveira/SpaceX-Dataset/master/dataset/SpaceX-Missions.csv\"\n",
    "df = pd.read_csv(spacex_missions_csv)"
   ]
  },
  {
   "cell_type": "markdown",
   "id": "da186e1c-70b8-4f8d-b689-d547613d91c1",
   "metadata": {},
   "source": [
    "You can gauge more information about a particular dataset using the following methods: "
   ]
  },
  {
   "cell_type": "code",
   "execution_count": 77,
   "id": "b7db26ed-18ca-439e-9600-682227e40110",
   "metadata": {},
   "outputs": [
    {
     "name": "stdout",
     "output_type": "stream",
     "text": [
      "  Flight Number    Launch Date Launch Time       Launch Site Vehicle Type  \\\n",
      "0          F1-1  24 March 2006       22:30  Marshall Islands     Falcon 1   \n",
      "1          F1-2  21 March 2007       01:10  Marshall Islands     Falcon 1   \n",
      "2          F1-3  3 August 2008       03:34  Marshall Islands     Falcon 1   \n",
      "3          F1-3  3 August 2008       03:34  Marshall Islands     Falcon 1   \n",
      "4          F1-3  3 August 2008       03:34  Marshall Islands     Falcon 1   \n",
      "\n",
      "         Payload Name             Payload Type  Payload Mass (kg)  \\\n",
      "0         FalconSAT-2       Research Satellite               19.5   \n",
      "1             DemoSat                      NaN                NaN   \n",
      "2         Trailblazer  Communication Satellite                NaN   \n",
      "3  PRESat, NanoSail-D      Research Satellites                8.0   \n",
      "4           Explorers            Human Remains                NaN   \n",
      "\n",
      "  Payload Orbit Customer Name Customer Type Customer Country Mission Outcome  \\\n",
      "0           NaN         DARPA    Government    United States         Failure   \n",
      "1           NaN         DARPA    Government    United States         Failure   \n",
      "2           NaN           ORS    Government    United States         Failure   \n",
      "3           NaN          NASA    Government    United States         Failure   \n",
      "4           NaN      Celestis      Business    United States         Failure   \n",
      "\n",
      "                  Failure Reason Landing Type Landing Outcome  \n",
      "0      Engine Fire During Launch          NaN             NaN  \n",
      "1  Engine Shutdown During Launch          NaN             NaN  \n",
      "2        Collision During Launch          NaN             NaN  \n",
      "3        Collision During Launch          NaN             NaN  \n",
      "4        Collision During Launch          NaN             NaN  \n",
      "\n",
      "<class 'pandas.core.frame.DataFrame'>\n",
      "RangeIndex: 41 entries, 0 to 40\n",
      "Data columns (total 16 columns):\n",
      " #   Column             Non-Null Count  Dtype  \n",
      "---  ------             --------------  -----  \n",
      " 0   Flight Number      41 non-null     object \n",
      " 1   Launch Date        41 non-null     object \n",
      " 2   Launch Time        41 non-null     object \n",
      " 3   Launch Site        41 non-null     object \n",
      " 4   Vehicle Type       41 non-null     object \n",
      " 5   Payload Name       41 non-null     object \n",
      " 6   Payload Type       38 non-null     object \n",
      " 7   Payload Mass (kg)  33 non-null     float64\n",
      " 8   Payload Orbit      36 non-null     object \n",
      " 9   Customer Name      39 non-null     object \n",
      " 10  Customer Type      39 non-null     object \n",
      " 11  Customer Country   39 non-null     object \n",
      " 12  Mission Outcome    41 non-null     object \n",
      " 13  Failure Reason     8 non-null      object \n",
      " 14  Landing Type       21 non-null     object \n",
      " 15  Landing Outcome    21 non-null     object \n",
      "dtypes: float64(1), object(15)\n",
      "memory usage: 5.3+ KB\n",
      "None\n",
      "\n",
      "       Payload Mass (kg)\n",
      "count          33.000000\n",
      "mean         2739.772727\n",
      "std          2131.502973\n",
      "min             8.000000\n",
      "25%           570.000000\n",
      "50%          2490.000000\n",
      "75%          4159.000000\n",
      "max          9600.000000\n",
      "\n"
     ]
    }
   ],
   "source": [
    "# display the first few rows of the DataFrame\n",
    "print(df.head())\n",
    "print()\n",
    "\n",
    "# check basic information about the DataFrame\n",
    "print(df.info())\n",
    "print()\n",
    "\n",
    "# summary statistics of numerical columns\n",
    "print(df.describe())\n",
    "print()"
   ]
  },
  {
   "cell_type": "markdown",
   "id": "33391e14-073b-47df-a145-b08e5b1cd547",
   "metadata": {},
   "source": [
    "# Core Methods with Pandas\n",
    "\n",
    "<h2>Mathematical & Statistical Methods</h2>\n",
    "\n",
    "You can apply basic statistical and mathematical functions such as <code>mean</code>, <code>median</code>, <code>sum</code>, <code>std</code> (standard deviation), <code>var</code> (variance), and more!"
   ]
  },
  {
   "cell_type": "code",
   "execution_count": 83,
   "id": "4fe53311-0b8b-436a-9cda-570edc966fb9",
   "metadata": {},
   "outputs": [
    {
     "name": "stdout",
     "output_type": "stream",
     "text": [
      "Payload mass mean:  2739.7727272727275\n",
      "Payload mass median:  2490.0\n",
      "Payload mass sum:  90412.5\n",
      "Payload mass std:  2131.502972856349\n",
      "Payload mass var:  4543304.923295454\n"
     ]
    }
   ],
   "source": [
    "mean_payload_mass = df[\"Payload Mass (kg)\"].mean()\n",
    "print(\"Payload mass mean: \", mean_payload_mass)\n",
    "\n",
    "median_payload_mass = df[\"Payload Mass (kg)\"].median()\n",
    "print(\"Payload mass median: \", median_payload_mass)\n",
    "\n",
    "sum_payload_mass = df[\"Payload Mass (kg)\"].sum()\n",
    "print(\"Payload mass sum: \", sum_payload_mass)\n",
    "\n",
    "std_payload_mass = df[\"Payload Mass (kg)\"].std()\n",
    "print(\"Payload mass std: \", std_payload_mass)\n",
    "\n",
    "var_payload_mass = df[\"Payload Mass (kg)\"].var()\n",
    "print(\"Payload mass var: \", var_payload_mass)"
   ]
  },
  {
   "cell_type": "markdown",
   "id": "9e65dc39-1050-42ca-b3c7-c4c1f4487a4d",
   "metadata": {},
   "source": [
    "<h2>Exploratory Methods</h2>\n",
    "\n",
    "Explorative methods in Pandas allows you to learn more about the dataset at hand. Some of these methods include <code>describe</code> and <code>unique</code>."
   ]
  },
  {
   "cell_type": "code",
   "execution_count": 93,
   "id": "de5884a7-ce04-4669-9d7e-8cdf2c7e10e1",
   "metadata": {},
   "outputs": [
    {
     "name": "stdout",
     "output_type": "stream",
     "text": [
      "Unique launch sites:\n",
      "['Marshall Islands' 'Cape Canaveral AFS LC-40' 'Vandenberg AFB SLC-4E'\n",
      " 'Kennedy Space Center LC-39A']\n",
      "\n"
     ]
    },
    {
     "data": {
      "text/html": [
       "<div>\n",
       "<style scoped>\n",
       "    .dataframe tbody tr th:only-of-type {\n",
       "        vertical-align: middle;\n",
       "    }\n",
       "\n",
       "    .dataframe tbody tr th {\n",
       "        vertical-align: top;\n",
       "    }\n",
       "\n",
       "    .dataframe thead th {\n",
       "        text-align: right;\n",
       "    }\n",
       "</style>\n",
       "<table border=\"1\" class=\"dataframe\">\n",
       "  <thead>\n",
       "    <tr style=\"text-align: right;\">\n",
       "      <th></th>\n",
       "      <th>Payload Mass (kg)</th>\n",
       "    </tr>\n",
       "  </thead>\n",
       "  <tbody>\n",
       "    <tr>\n",
       "      <th>count</th>\n",
       "      <td>33.000000</td>\n",
       "    </tr>\n",
       "    <tr>\n",
       "      <th>mean</th>\n",
       "      <td>2739.772727</td>\n",
       "    </tr>\n",
       "    <tr>\n",
       "      <th>std</th>\n",
       "      <td>2131.502973</td>\n",
       "    </tr>\n",
       "    <tr>\n",
       "      <th>min</th>\n",
       "      <td>8.000000</td>\n",
       "    </tr>\n",
       "    <tr>\n",
       "      <th>25%</th>\n",
       "      <td>570.000000</td>\n",
       "    </tr>\n",
       "    <tr>\n",
       "      <th>50%</th>\n",
       "      <td>2490.000000</td>\n",
       "    </tr>\n",
       "    <tr>\n",
       "      <th>75%</th>\n",
       "      <td>4159.000000</td>\n",
       "    </tr>\n",
       "    <tr>\n",
       "      <th>max</th>\n",
       "      <td>9600.000000</td>\n",
       "    </tr>\n",
       "  </tbody>\n",
       "</table>\n",
       "</div>"
      ],
      "text/plain": [
       "       Payload Mass (kg)\n",
       "count          33.000000\n",
       "mean         2739.772727\n",
       "std          2131.502973\n",
       "min             8.000000\n",
       "25%           570.000000\n",
       "50%          2490.000000\n",
       "75%          4159.000000\n",
       "max          9600.000000"
      ]
     },
     "execution_count": 93,
     "metadata": {},
     "output_type": "execute_result"
    }
   ],
   "source": [
    "# print all unique launch sites in the dataset\n",
    "print(\"Unique launch sites:\")\n",
    "print(pd.unique(df[\"Launch Site\"]))\n",
    "print()\n",
    "\n",
    "# describe the statistical values of all the numerical columns within the dataset\n",
    "df.describe(include=[np.number])"
   ]
  },
  {
   "cell_type": "markdown",
   "id": "a5dfae22-6d3b-49ba-98d5-35944b8f985d",
   "metadata": {},
   "source": [
    "<h2>Data Selection and Filtering</h2>"
   ]
  },
  {
   "cell_type": "code",
   "execution_count": 97,
   "id": "777156c5-c252-452d-8841-2e2a5dcbee86",
   "metadata": {},
   "outputs": [
    {
     "name": "stdout",
     "output_type": "stream",
     "text": [
      "                            Payload Name                 Payload Orbit\n",
      "0                            FalconSAT-2                           NaN\n",
      "1                                DemoSat                           NaN\n",
      "2                            Trailblazer                           NaN\n",
      "3                     PRESat, NanoSail-D                           NaN\n",
      "4                              Explorers                           NaN\n",
      "5                       RatSat (DemoSat)               Low Earth Orbit\n",
      "6                               RazakSAT               Low Earth Orbit\n",
      "7   Dragon Spacecraft Qualification Unit               Low Earth Orbit\n",
      "8                 SpaceX CRS (Dragon C1)               Low Earth Orbit\n",
      "9                SpaceX CRS (Dragon C2+)               Low Earth Orbit\n",
      "10                          SpaceX CRS-1               Low Earth Orbit\n",
      "11                           Orbcomm-OG2               Low Earth Orbit\n",
      "12                          SpaceX CRS-2               Low Earth Orbit\n",
      "13                              CASSIOPE                   Polar Orbit\n",
      "14                                 SES-8  Geostationary Transfer Orbit\n",
      "15                             Thaicom 6  Geostationary Transfer Orbit\n",
      "16                          SpaceX CRS-3               Low Earth Orbit\n",
      "17      OG2 Mission 1 (6 OG2 Satellites)               Low Earth Orbit\n",
      "18                             AsiaSat 8  Geostationary Transfer Orbit\n",
      "19                             AsiaSat 6  Geostationary Transfer Orbit\n",
      "20                          SpaceX CRS-4  Geostationary Transfer Orbit\n",
      "21                          SpaceX CRS-5               Low Earth Orbit\n",
      "22                                DSCOVR               Sun/Earth Orbit\n",
      "23                                ABS-3A  Geostationary Transfer Orbit\n",
      "24        Eutelsat 115 West B (Satmex 7)  Geostationary Transfer Orbit\n",
      "25                          SpaceX CRS-6               Low Earth Orbit\n",
      "26             TurkmenAlem 52E/MonacoSAT  Geostationary Transfer Orbit\n",
      "27                          SpaceX CRS-7               Low Earth Orbit\n",
      "28     OG2 Mission 2 (11 OG2 Satellites)               Low Earth Orbit\n",
      "29                               Jason-3               Low Earth Orbit\n",
      "30                                 SES-9  Geostationary Transfer Orbit\n",
      "31                          SpaceX CRS-8               Low Earth Orbit\n",
      "32                              JCSAT-14  Geostationary Transfer Orbit\n",
      "33                             Thaicom 8  Geostationary Transfer Orbit\n",
      "34                                ABS-2A  Geostationary Transfer Orbit\n",
      "35        Eutelsat 117 West B (Satmex 9)  Geostationary Transfer Orbit\n",
      "36                          SpaceX CRS-9               Low Earth Orbit\n",
      "37                              JCSAT-16  Geostationary Transfer Orbit\n",
      "38                                Amos-6  Geostationary Transfer Orbit\n",
      "39                     Iridium NEXT 1-10               Low Earth Orbit\n",
      "40                         SpaceX CRS-10               Low Earth Orbit\n",
      "\n",
      "   Flight Number       Launch Date Launch Time               Launch Site  \\\n",
      "14          F9-7   3 December 2013       22:41  Cape Canaveral AFS LC-40   \n",
      "15          F9-8   6 December 2014       22:06  Cape Canaveral AFS LC-40   \n",
      "18         F9-11     5 August 2014       08:00  Cape Canaveral AFS LC-40   \n",
      "19         F9-12  7 September 2014       05:00  Cape Canaveral AFS LC-40   \n",
      "23         F9-16      2 March 2015       03:50  Cape Canaveral AFS LC-40   \n",
      "24         F9-16      2 March 2015       03:50  Cape Canaveral AFS LC-40   \n",
      "26         F9-18     27 April 2015       23:03  Cape Canaveral AFS LC-40   \n",
      "30          FT-2      4 March 2016       23:35  Cape Canaveral AFS LC-40   \n",
      "31          FT-3      8 April 2016       20:43  Cape Canaveral AFS LC-40   \n",
      "32          FT-4        6 May 2016       05:21  Cape Canaveral AFS LC-40   \n",
      "33          FT-5       27 May 2016       21:39  Cape Canaveral AFS LC-40   \n",
      "34          FT-6      15 June 2016       14:29  Cape Canaveral AFS LC-40   \n",
      "35          FT-6      15 June 2016       14:29  Cape Canaveral AFS LC-40   \n",
      "37          FT-8    14 August 2016       05:26  Cape Canaveral AFS LC-40   \n",
      "38          FT-9  1 September 2016       13:07  Cape Canaveral AFS LC-40   \n",
      "39         FT-10   14 January 2017       17:54     Vandenberg AFB SLC-4E   \n",
      "\n",
      "                   Vehicle Type                    Payload Name  \\\n",
      "14              Falcon 9 (v1.1)                           SES-8   \n",
      "15              Falcon 9 (v1.1)                       Thaicom 6   \n",
      "18              Falcon 9 (v1.1)                       AsiaSat 8   \n",
      "19              Falcon 9 (v1.1)                       AsiaSat 6   \n",
      "23              Falcon 9 (v1.1)                          ABS-3A   \n",
      "24              Falcon 9 (v1.1)  Eutelsat 115 West B (Satmex 7)   \n",
      "26              Falcon 9 (v1.1)       TurkmenAlem 52E/MonacoSAT   \n",
      "30  Falcon 9 Full Thrust (v1.2)                           SES-9   \n",
      "31  Falcon 9 Full Thrust (v1.2)                    SpaceX CRS-8   \n",
      "32  Falcon 9 Full Thrust (v1.2)                        JCSAT-14   \n",
      "33  Falcon 9 Full Thrust (v1.2)                       Thaicom 8   \n",
      "34  Falcon 9 Full Thrust (v1.2)                          ABS-2A   \n",
      "35  Falcon 9 Full Thrust (v1.2)  Eutelsat 117 West B (Satmex 9)   \n",
      "37  Falcon 9 Full Thrust (v1.2)                        JCSAT-16   \n",
      "38  Falcon 9 Full Thrust (v1.2)                          Amos-6   \n",
      "39  Falcon 9 Full Thrust (v1.2)               Iridium NEXT 1-10   \n",
      "\n",
      "               Payload Type  Payload Mass (kg)                 Payload Orbit  \\\n",
      "14  Communication Satellite             3170.0  Geostationary Transfer Orbit   \n",
      "15  Communication Satellite             3325.0  Geostationary Transfer Orbit   \n",
      "18  Communication Satellite             4535.0  Geostationary Transfer Orbit   \n",
      "19  Communication Satellite             4428.0  Geostationary Transfer Orbit   \n",
      "23  Communication Satellite             4159.0  Geostationary Transfer Orbit   \n",
      "24  Communication Satellite             4159.0  Geostationary Transfer Orbit   \n",
      "26  Communication Satellite             4707.0  Geostationary Transfer Orbit   \n",
      "30  Communication Satellite             5271.0  Geostationary Transfer Orbit   \n",
      "31   Space Station Supplies             3136.0               Low Earth Orbit   \n",
      "32  Communication Satellite             4696.0  Geostationary Transfer Orbit   \n",
      "33  Communication Satellite             3100.0  Geostationary Transfer Orbit   \n",
      "34  Communication Satellite             3600.0  Geostationary Transfer Orbit   \n",
      "35  Communication Satellite             3600.0  Geostationary Transfer Orbit   \n",
      "37  Communication Satellite             4600.0  Geostationary Transfer Orbit   \n",
      "38  Communication Satellite             5500.0  Geostationary Transfer Orbit   \n",
      "39  Communication Satellite             9600.0               Low Earth Orbit   \n",
      "\n",
      "               Customer Name Customer Type Customer Country Mission Outcome  \\\n",
      "14                       SES      Business       Luxembourg         Success   \n",
      "15                   Thaicom      Business         Thailand         Success   \n",
      "18                   AsiaSat      Business            China         Success   \n",
      "19                   AsiaSat      Business            China         Success   \n",
      "23  Asia Broadcast Satellite      Business          Bermuda         Success   \n",
      "24         Eutelsat (Satmex)      Business  France (Mexico)         Success   \n",
      "26          Turkmenistan NSA    Government     Turkmenistan         Success   \n",
      "30                       SES      Business       Luxembourg         Success   \n",
      "31                      NASA    Government    United States         Success   \n",
      "32    SKY Perfect JSAT Group      Business            Japan         Success   \n",
      "33                   Thaicom      Business         Thailand         Success   \n",
      "34  Asia Broadcast Satellite      Business          Bermuda         Success   \n",
      "35         Eutelsat (Satmex)      Business  France (Mexico)         Success   \n",
      "37    SKY Perfect JSAT Group      Business            Japan         Success   \n",
      "38                  Spacecom      Business           Israel         Failure   \n",
      "39    Iridium Communications      Business    United States         Success   \n",
      "\n",
      "                     Failure Reason Landing Type Landing Outcome  \n",
      "14                              NaN          NaN             NaN  \n",
      "15                              NaN          NaN             NaN  \n",
      "18                              NaN          NaN             NaN  \n",
      "19                              NaN          NaN             NaN  \n",
      "23                              NaN          NaN             NaN  \n",
      "24                              NaN          NaN             NaN  \n",
      "26                              NaN          NaN             NaN  \n",
      "30                              NaN         Ship         Failure  \n",
      "31                              NaN         Ship         Success  \n",
      "32                              NaN         Ship         Success  \n",
      "33                              NaN         Ship         Success  \n",
      "34                              NaN         Ship         Failure  \n",
      "35                              NaN         Ship         Failure  \n",
      "37                              NaN         Ship         Success  \n",
      "38  Vehicle Explosion Before Launch          NaN             NaN  \n",
      "39                              NaN         Ship         Success  \n"
     ]
    }
   ],
   "source": [
    "# select specific columns\n",
    "selected_columns = df[[\"Payload Name\", \"Payload Orbit\"]]\n",
    "print(selected_columns)\n",
    "print()\n",
    "\n",
    "# filter rows based on condition (if payload mass exceeds 3000)\n",
    "filtered_payloads = df[df[\"Payload Mass (kg)\"] > 3000]\n",
    "print(filtered_payloads)"
   ]
  },
  {
   "cell_type": "markdown",
   "id": "f8fe24b4-4523-4e98-944d-a0c08784d942",
   "metadata": {},
   "source": [
    "<h2>Grouping Data</h2>\n",
    "\n",
    "Another cool feature in Pandas is <code>groupby</code> which allows you to categorize data and perform analysis on it."
   ]
  },
  {
   "cell_type": "code",
   "execution_count": 99,
   "id": "8d7ca6c3-e501-4ffc-acc3-ae897960a4ce",
   "metadata": {},
   "outputs": [
    {
     "data": {
      "text/plain": [
       "Launch Site\n",
       "Cape Canaveral AFS LC-40       3075.880\n",
       "Kennedy Space Center LC-39A    2490.000\n",
       "Marshall Islands                 93.125\n",
       "Vandenberg AFB SLC-4E          3551.000\n",
       "Name: Payload Mass (kg), dtype: float64"
      ]
     },
     "execution_count": 99,
     "metadata": {},
     "output_type": "execute_result"
    }
   ],
   "source": [
    "# grouping payload by launch site\n",
    "launch_groups = df.groupby(\"Launch Site\")\n",
    "\n",
    "# obtaining the mean value for each group\n",
    "launch_groups[\"Payload Mass (kg)\"].mean()"
   ]
  },
  {
   "cell_type": "markdown",
   "id": "27201580-acb0-4495-b160-f1dbba05b281",
   "metadata": {},
   "source": [
    "# 2. Deeper Dive into SpaceX Launch Dataset\n",
    "\n",
    "<h2>Objectives</h2>\n",
    "\n",
    "- Reinitialize the dataframe and name it <code>launches_dataset</code>\n",
    "- View the first values of the dataset using the <code>head()</code> method\n",
    "- Print out the \"Customer Country\" column\n",
    "- Print out all the unnique customer countries\n",
    "- Make a variable named <code>launches_by_country</code> and make it grouped by the \"Customer Country\" column\n",
    "- Print out all the launches with a payload_mass (\"Payload Mass (kg)\") of less than 4000\n",
    "- Print the median payload mass for <code>United States</code>"
   ]
  },
  {
   "cell_type": "code",
   "execution_count": null,
   "id": "f9a02031-79e2-48ff-9800-945affe0e785",
   "metadata": {},
   "outputs": [],
   "source": []
  }
 ],
 "metadata": {
  "kernelspec": {
   "display_name": "Python 3 (ipykernel)",
   "language": "python",
   "name": "python3"
  },
  "language_info": {
   "codemirror_mode": {
    "name": "ipython",
    "version": 3
   },
   "file_extension": ".py",
   "mimetype": "text/x-python",
   "name": "python",
   "nbconvert_exporter": "python",
   "pygments_lexer": "ipython3",
   "version": "3.12.4"
  }
 },
 "nbformat": 4,
 "nbformat_minor": 5
}
